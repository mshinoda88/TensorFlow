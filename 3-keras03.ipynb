{
 "cells": [
  {
   "cell_type": "code",
   "execution_count": 1,
   "metadata": {},
   "outputs": [
    {
     "data": {
      "text/html": [
       "<h2>Kerasによる実装 ３：予測の評価   p.139</h2>"
      ],
      "text/plain": [
       "<IPython.core.display.HTML object>"
      ]
     },
     "metadata": {},
     "output_type": "display_data"
    }
   ],
   "source": [
    "%%html\n",
    "<h2>Kerasによる実装 ３：予測の評価   p.139</h2>"
   ]
  },
  {
   "cell_type": "code",
   "execution_count": 7,
   "metadata": {},
   "outputs": [
    {
     "name": "stdout",
     "output_type": "stream",
     "text": [
      "32/60 [===============>..............] - ETA: 0s\n",
      "loss_and_metrics: [0.32602769732475279, 0.83333332538604732]\n"
     ]
    }
   ],
   "source": [
    "#  モデルの生成\n",
    "import numpy as np\n",
    "from keras.models import Sequential\n",
    "from keras.layers import Dense, Activation\n",
    "from keras.optimizers import SGD\n",
    "\n",
    "# 試行回数\n",
    "epochs = 400\n",
    "# 学習率\n",
    "lerning_rate = 0.05\n",
    "# バッチサイズ\n",
    "batch_size = 20\n",
    "\n",
    "## モデルの生成\n",
    "model = Sequential()\n",
    "# 入力層　隠れ層\n",
    "model.add(Dense(3, input_dim=2))\n",
    "model.add(Activation('sigmoid'))\n",
    "\n",
    "# 隠れ層　出力層\n",
    "model.add(Dense(units=1)) \n",
    "model.add(Activation('sigmoid'))\n",
    "\n",
    "opt_sgd = SGD(lr=lerning_rate)\n",
    "model.compile(loss='binary_crossentropy', optimizer=opt_sgd, metrics=['accuracy'])\n",
    "\n",
    "from sklearn import datasets\n",
    "from sklearn.model_selection import train_test_split\n",
    "from sklearn.utils import shuffle\n",
    "\n",
    "N = 300\n",
    "X, y = datasets.make_moons(N, noise=0.3)\n",
    "X_train, X_test, y_train, y_test = train_test_split(X, y, train_size=0.8)\n",
    "\n",
    "model.fit(X_train, y_train, epochs=epochs, batch_size=batch_size, verbose=0)\n",
    "\n",
    "## 学習結果の確認\n",
    "loss_and_metrics = model.evaluate(X_test, y_test)\n",
    "print()\n",
    "print('loss_and_metrics:', loss_and_metrics)\n"
   ]
  },
  {
   "cell_type": "code",
   "execution_count": null,
   "metadata": {
    "collapsed": true
   },
   "outputs": [],
   "source": []
  }
 ],
 "metadata": {
  "kernelspec": {
   "display_name": "Python 3",
   "language": "python",
   "name": "python3"
  },
  "language_info": {
   "codemirror_mode": {
    "name": "ipython",
    "version": 3
   },
   "file_extension": ".py",
   "mimetype": "text/x-python",
   "name": "python",
   "nbconvert_exporter": "python",
   "pygments_lexer": "ipython3",
   "version": "3.6.1"
  }
 },
 "nbformat": 4,
 "nbformat_minor": 2
}
