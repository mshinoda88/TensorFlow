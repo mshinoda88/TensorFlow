{
 "cells": [
  {
   "cell_type": "code",
   "execution_count": 1,
   "metadata": {},
   "outputs": [
    {
     "name": "stdout",
     "output_type": "stream",
     "text": [
      "3\n"
     ]
    }
   ],
   "source": [
    "\"\"\"\n",
    "TensorBoard(Graph) で見える化\n",
    "\"\"\"\n",
    "\n",
    "# 定数の1+2を計算して、見える化\n",
    "import tensorflow as tf\n",
    "sess = tf.InteractiveSession()\n",
    "\n",
    "# TensorBoard情報出力ディレクトリ\n",
    "DIR_LOG = '/exdisk/workspace/6-04/01'\n",
    "\n",
    "# 指定したディレクトリがあれば削除し、再作成\n",
    "if tf.gfile.Exists(DIR_LOG):\n",
    "    tf.gfile.DeleteRecursively(DIR_LOG)\n",
    "tf.gfile.MakeDirs(DIR_LOG)\n",
    "\n",
    "# 定数で1 + 2\n",
    "x = tf.constant(1, name='x')\n",
    "y = tf.constant(2, name='y')\n",
    "z = x + y\n",
    "\n",
    "# このコマンドでzをグラフ上に出力\n",
    "_ = tf.summary.scalar('z', z)\n",
    "\n",
    "# SummaryWriterでグラフを書く(これより後のコマンドはグラフに出力されない)\n",
    "summary_writer = tf.summary.FileWriter(DIR_LOG , sess.graph)\n",
    "\n",
    "# 実行\n",
    "print(sess.run(z))\n",
    "\n",
    "# SummaryWriterクローズ\n",
    "summary_writer.close()"
   ]
  },
  {
   "cell_type": "code",
   "execution_count": 2,
   "metadata": {
    "collapsed": true
   },
   "outputs": [],
   "source": [
    "\"\"\"\n",
    "terminalからTensorbaordをディレクトリを指定して起動\n",
    "  Pythonプログラム内変数 DIR_LOG にディレクトリを格納している。\n",
    "\n",
    "# tensorboard --logdir=/exdisk/workspace/6-04/01\n",
    "\n",
    "起動後にブラウザで\n",
    "  http://localhost:6006/\n",
    "を開くとTensorBoard画面が表示される。\n",
    "\n",
    "\"\"\"\n",
    "pass"
   ]
  },
  {
   "cell_type": "code",
   "execution_count": 3,
   "metadata": {},
   "outputs": [
    {
     "name": "stdout",
     "output_type": "stream",
     "text": [
      "3\n"
     ]
    }
   ],
   "source": [
    "\"\"\"\n",
    "tf.name_scopeを加えるとグルーピングができます。\n",
    "\n",
    "\"\"\"\n",
    "\n",
    "import tensorflow as tf\n",
    "sess = tf.InteractiveSession()\n",
    "\n",
    "# TensorBoard情報出力ディレクトリ\n",
    "DIR_LOG = '/exdisk/workspace/6-04/02'\n",
    "\n",
    "# 指定したディレクトリがあれば削除し、再作成\n",
    "if tf.gfile.Exists(DIR_LOG):\n",
    "    tf.gfile.DeleteRecursively(DIR_LOG)\n",
    "tf.gfile.MakeDirs(DIR_LOG)\n",
    "\n",
    "# add_scopeという名称でグルーピング\n",
    "with tf.name_scope('add_scope'):\n",
    "    # 定数で1 + 2\n",
    "    x = tf.constant(1, name='x')\n",
    "    y = tf.constant(2, name='y')\n",
    "    z = x + y\n",
    "\n",
    "    # このコマンドでzをグラフ上に出力\n",
    "    _ = tf.summary.scalar('z', z)\n",
    "\n",
    "# SummaryWriterでグラフを書く(これより後のコマンドはグラフに出力されない)\n",
    "summary_writer = tf.summary.FileWriter(DIR_LOG , sess.graph)\n",
    "\n",
    "# 実行\n",
    "print(sess.run(z))\n",
    "\n",
    "# SummaryWriterクローズ\n",
    "summary_writer.close()"
   ]
  },
  {
   "cell_type": "code",
   "execution_count": 4,
   "metadata": {},
   "outputs": [
    {
     "name": "stdout",
     "output_type": "stream",
     "text": [
      "3\n"
     ]
    }
   ],
   "source": [
    "import tensorflow as tf\n",
    "sess = tf.InteractiveSession()\n",
    "\n",
    "# TensorBoard情報出力ディレクトリ\n",
    "DIR_LOG = '/exdisk/workspace/6-04/03'\n",
    "\n",
    "# 指定したディレクトリがあれば削除し、再作成\n",
    "if tf.gfile.Exists(DIR_LOG):\n",
    "    tf.gfile.DeleteRecursively(DIR_LOG)\n",
    "tf.gfile.MakeDirs(DIR_LOG)\n",
    "\n",
    "#add_scopeという名称でグルーピング\n",
    "with tf.name_scope('add_scope'):\n",
    "\n",
    "    # 定数で1 + 2\n",
    "    x = tf.constant(1, name='x')\n",
    "    y = tf.constant(2, name='y')\n",
    "    z = x + y\n",
    "\n",
    "    # このコマンドでzをグラフ上に出力\n",
    "    _ = tf.summary.scalar('z', z)\n",
    "\n",
    "    # 上の結果に掛け算\n",
    "    with tf.name_scope('multiply_scope'):\n",
    "        zz = y * z\n",
    "\n",
    "# SummaryWriterでグラフを書く(これより後のコマンドはグラフに出力されない)\n",
    "summary_writer = tf.summary.FileWriter(DIR_LOG , sess.graph)\n",
    "\n",
    "# 実行\n",
    "print(sess.run(z))\n",
    "\n",
    "# SummaryWriterクローズ\n",
    "summary_writer.close()"
   ]
  },
  {
   "cell_type": "code",
   "execution_count": null,
   "metadata": {
    "collapsed": true
   },
   "outputs": [],
   "source": []
  }
 ],
 "metadata": {
  "kernelspec": {
   "display_name": "Python 3",
   "language": "python",
   "name": "python3"
  },
  "language_info": {
   "codemirror_mode": {
    "name": "ipython",
    "version": 3
   },
   "file_extension": ".py",
   "mimetype": "text/x-python",
   "name": "python",
   "nbconvert_exporter": "python",
   "pygments_lexer": "ipython3",
   "version": "3.6.1"
  }
 },
 "nbformat": 4,
 "nbformat_minor": 2
}
