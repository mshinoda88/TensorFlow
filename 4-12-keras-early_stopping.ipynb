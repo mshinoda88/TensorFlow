{
 "cells": [
  {
   "cell_type": "code",
   "execution_count": 1,
   "metadata": {},
   "outputs": [
    {
     "data": {
      "text/html": [
       "<h2>Keras によるコーディング</h2>\n",
       "<ul>\n",
       "  <li>drop 0.5</li>\n",
       "  <li>activation: relu</li>\n",
       "  <li>hidden layer: 3</li>\n",
       "  <li>early stopping</li>\n",
       "</ul>"
      ],
      "text/plain": [
       "<IPython.core.display.HTML object>"
      ]
     },
     "metadata": {},
     "output_type": "display_data"
    }
   ],
   "source": [
    "%%html\n",
    "<h2>Keras によるコーディング</h2>\n",
    "<ul>\n",
    "  <li>drop 0.5</li>\n",
    "  <li>activation: relu</li>\n",
    "  <li>hidden layer: 3</li>\n",
    "  <li>early stopping</li>\n",
    "</ul>"
   ]
  },
  {
   "cell_type": "code",
   "execution_count": 2,
   "metadata": {},
   "outputs": [
    {
     "name": "stderr",
     "output_type": "stream",
     "text": [
      "Using TensorFlow backend.\n"
     ]
    },
    {
     "name": "stdout",
     "output_type": "stream",
     "text": [
      "Train on 16000 samples, validate on 4000 samples\n",
      "Epoch 1/200\n",
      "16000/16000 [==============================] - 1s - loss: 1.5401 - acc: 0.4739 - val_loss: 0.5511 - val_acc: 0.8525\n",
      "Epoch 2/200\n",
      "16000/16000 [==============================] - 1s - loss: 0.6692 - acc: 0.7856 - val_loss: 0.3404 - val_acc: 0.9035\n",
      "Epoch 3/200\n",
      "16000/16000 [==============================] - 1s - loss: 0.4988 - acc: 0.8536 - val_loss: 0.2690 - val_acc: 0.9188\n",
      "Epoch 4/200\n",
      "16000/16000 [==============================] - 1s - loss: 0.4050 - acc: 0.8820 - val_loss: 0.2379 - val_acc: 0.9315\n",
      "Epoch 5/200\n",
      "16000/16000 [==============================] - 1s - loss: 0.3597 - acc: 0.8951 - val_loss: 0.2254 - val_acc: 0.9357\n",
      "Epoch 6/200\n",
      "16000/16000 [==============================] - 1s - loss: 0.3194 - acc: 0.9091 - val_loss: 0.2013 - val_acc: 0.9372\n",
      "Epoch 7/200\n",
      "16000/16000 [==============================] - 1s - loss: 0.2884 - acc: 0.9169 - val_loss: 0.1884 - val_acc: 0.9452\n",
      "Epoch 8/200\n",
      "16000/16000 [==============================] - 1s - loss: 0.2668 - acc: 0.9233 - val_loss: 0.1747 - val_acc: 0.9485\n",
      "Epoch 9/200\n",
      "16000/16000 [==============================] - 1s - loss: 0.2484 - acc: 0.9306 - val_loss: 0.1726 - val_acc: 0.9510\n",
      "Epoch 10/200\n",
      "16000/16000 [==============================] - 1s - loss: 0.2374 - acc: 0.9315 - val_loss: 0.1687 - val_acc: 0.9502\n",
      "Epoch 11/200\n",
      "16000/16000 [==============================] - 1s - loss: 0.2233 - acc: 0.9372 - val_loss: 0.1654 - val_acc: 0.9537\n",
      "Epoch 12/200\n",
      "16000/16000 [==============================] - 1s - loss: 0.2005 - acc: 0.9407 - val_loss: 0.1572 - val_acc: 0.9540\n",
      "Epoch 13/200\n",
      "16000/16000 [==============================] - 1s - loss: 0.1898 - acc: 0.9446 - val_loss: 0.1614 - val_acc: 0.9557\n",
      "Epoch 14/200\n",
      "16000/16000 [==============================] - 1s - loss: 0.1851 - acc: 0.9459 - val_loss: 0.1464 - val_acc: 0.9593\n",
      "Epoch 15/200\n",
      "16000/16000 [==============================] - 1s - loss: 0.1746 - acc: 0.9504 - val_loss: 0.1532 - val_acc: 0.9540\n",
      "Epoch 16/200\n",
      "16000/16000 [==============================] - 1s - loss: 0.1687 - acc: 0.9499 - val_loss: 0.1495 - val_acc: 0.9607\n",
      "Epoch 17/200\n",
      "16000/16000 [==============================] - 1s - loss: 0.1575 - acc: 0.9514 - val_loss: 0.1543 - val_acc: 0.9600\n",
      "Epoch 18/200\n",
      "16000/16000 [==============================] - 1s - loss: 0.1661 - acc: 0.9516 - val_loss: 0.1511 - val_acc: 0.9602\n",
      "Epoch 19/200\n",
      "16000/16000 [==============================] - 1s - loss: 0.1492 - acc: 0.9552 - val_loss: 0.1431 - val_acc: 0.9633\n",
      "Epoch 20/200\n",
      "16000/16000 [==============================] - 1s - loss: 0.1497 - acc: 0.9539 - val_loss: 0.1370 - val_acc: 0.9620\n",
      "Epoch 21/200\n",
      "16000/16000 [==============================] - 1s - loss: 0.1406 - acc: 0.9584 - val_loss: 0.1413 - val_acc: 0.9632\n",
      "Epoch 22/200\n",
      "16000/16000 [==============================] - 1s - loss: 0.1316 - acc: 0.9617 - val_loss: 0.1381 - val_acc: 0.9637\n",
      "Epoch 23/200\n",
      "16000/16000 [==============================] - 1s - loss: 0.1290 - acc: 0.9621 - val_loss: 0.1462 - val_acc: 0.9600\n",
      "Epoch 24/200\n",
      "16000/16000 [==============================] - 1s - loss: 0.1268 - acc: 0.9624 - val_loss: 0.1490 - val_acc: 0.9593\n",
      "Epoch 25/200\n",
      "16000/16000 [==============================] - 1s - loss: 0.1234 - acc: 0.9630 - val_loss: 0.1472 - val_acc: 0.9625\n",
      "Epoch 26/200\n",
      "16000/16000 [==============================] - 1s - loss: 0.1209 - acc: 0.9643 - val_loss: 0.1468 - val_acc: 0.9630\n",
      "Epoch 27/200\n",
      "16000/16000 [==============================] - 1s - loss: 0.1172 - acc: 0.9662 - val_loss: 0.1393 - val_acc: 0.9645\n",
      "Epoch 28/200\n",
      "16000/16000 [==============================] - 1s - loss: 0.1145 - acc: 0.9673 - val_loss: 0.1426 - val_acc: 0.9630\n",
      "Epoch 29/200\n",
      "16000/16000 [==============================] - 1s - loss: 0.1106 - acc: 0.9655 - val_loss: 0.1501 - val_acc: 0.9633\n",
      "Epoch 30/200\n",
      "16000/16000 [==============================] - 1s - loss: 0.1030 - acc: 0.9683 - val_loss: 0.1478 - val_acc: 0.9617\n",
      "Epoch 31/200\n",
      "16000/16000 [==============================] - 1s - loss: 0.1096 - acc: 0.9678 - val_loss: 0.1386 - val_acc: 0.9665\n",
      "Epoch 00030: early stopping\n",
      " 9952/10000 [============================>.] - ETA: 0s[0.13910293828248976, 0.96379999999999999]\n"
     ]
    }
   ],
   "source": [
    "import numpy as np\n",
    "from keras.models import Sequential\n",
    "from keras.layers.core import Dense, Activation, Dropout\n",
    "from keras.optimizers import Adam\n",
    "from keras.callbacks import EarlyStopping\n",
    "from sklearn import datasets\n",
    "from sklearn.model_selection import train_test_split\n",
    "import matplotlib.pyplot as plt\n",
    "\n",
    "np.random.seed(123)\n",
    "\n",
    "'''\n",
    "データの生成\n",
    "'''\n",
    "mnist = datasets.fetch_mldata('MNIST original', data_home='.')\n",
    "\n",
    "n = len(mnist.data)\n",
    "N = 30000  # MNISTの一部を使う\n",
    "N_train = 20000\n",
    "N_validation = 4000\n",
    "indices = np.random.permutation(range(n))[:N]  # ランダムにN枚を選択\n",
    "\n",
    "X = mnist.data[indices]\n",
    "X = X / 255.0\n",
    "X = X - X.mean(axis=1).reshape(len(X), 1)\n",
    "y = mnist.target[indices]\n",
    "Y = np.eye(10)[y.astype(int)]\n",
    "\n",
    "X_train, X_test, Y_train, Y_test = \\\n",
    "    train_test_split(X, Y, train_size=N_train)\n",
    "X_train, X_validation, Y_train, Y_validation = \\\n",
    "    train_test_split(X_train, Y_train, test_size=N_validation)\n",
    "\n",
    "'''\n",
    "モデル設定\n",
    "'''\n",
    "n_in = len(X[0])  # 784\n",
    "n_hiddens = [200, 200, 200]\n",
    "n_out = len(Y[0])  # 10\n",
    "p_keep = 0.5\n",
    "activation = 'relu'\n",
    "\n",
    "\n",
    "def weight_variable(shape, name=None):\n",
    "    return np.sqrt(2.0 / shape[0]) * np.random.normal(size=shape)\n",
    "\n",
    "\n",
    "early_stopping = EarlyStopping(monitor='val_loss', patience=10, verbose=1)\n",
    "\n",
    "model = Sequential()\n",
    "for i, input_dim in enumerate(([n_in] + n_hiddens)[:-1]):\n",
    "    model.add(Dense(n_hiddens[i], input_dim=input_dim,\n",
    "                    kernel_initializer=weight_variable))\n",
    "    model.add(Activation(activation))\n",
    "    model.add(Dropout(p_keep))\n",
    "\n",
    "model.add(Dense(n_out, kernel_initializer=weight_variable))\n",
    "model.add(Activation('softmax'))\n",
    "\n",
    "model.compile(loss='categorical_crossentropy',\n",
    "              optimizer=Adam(lr=0.001, beta_1=0.9, beta_2=0.999),\n",
    "              metrics=['accuracy'])\n",
    "\n",
    "'''\n",
    "モデル学習\n",
    "'''\n",
    "epochs = 200\n",
    "batch_size = 200\n",
    "\n",
    "hist = model.fit(X_train, Y_train, epochs=epochs,\n",
    "                 batch_size=batch_size,\n",
    "                 validation_data=(X_validation, Y_validation),\n",
    "                 callbacks=[early_stopping])\n",
    "\n",
    "\n",
    "'''\n",
    "予測精度の評価\n",
    "'''\n",
    "loss_and_metrics = model.evaluate(X_test, Y_test)\n",
    "print(loss_and_metrics)"
   ]
  },
  {
   "cell_type": "code",
   "execution_count": 3,
   "metadata": {},
   "outputs": [
    {
     "data": {
      "image/png": "[encoded data removed]",
      "text/plain": [
       "<matplotlib.figure.Figure at 0x7f65204526a0>"
      ]
     },
     "metadata": {},
     "output_type": "display_data"
    }
   ],
   "source": [
    "'''\n",
    "学習の進み具合を可視化\n",
    "'''\n",
    "val_acc = hist.history['val_acc']\n",
    "val_loss = hist.history['val_loss']\n",
    "\n",
    "plt.rc('font', family='serif')\n",
    "fig = plt.figure()\n",
    "plt.plot(range(len(val_loss)), val_loss, label='loss', color='black')\n",
    "plt.xlabel('epochs')\n",
    "plt.show()"
   ]
  }
 ],
 "metadata": {
  "kernelspec": {
   "display_name": "Python 3",
   "language": "python",
   "name": "python3"
  },
  "language_info": {
   "codemirror_mode": {
    "name": "ipython",
    "version": 3
   },
   "file_extension": ".py",
   "mimetype": "text/x-python",
   "name": "python",
   "nbconvert_exporter": "python",
   "pygments_lexer": "ipython3",
   "version": "3.6.1"
  }
 },
 "nbformat": 4,
 "nbformat_minor": 2
}
