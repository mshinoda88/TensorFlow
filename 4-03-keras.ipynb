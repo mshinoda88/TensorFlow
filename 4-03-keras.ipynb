{
 "cells": [
  {
   "cell_type": "code",
   "execution_count": 1,
   "metadata": {},
   "outputs": [
    {
     "data": {
      "text/html": [
       "<h2>chapter4 deep neural network   p.156</h2>\n",
       "<h3>活性化関数に双曲線正接関数 relu を使用した場合</h3>"
      ],
      "text/plain": [
       "<IPython.core.display.HTML object>"
      ]
     },
     "metadata": {},
     "output_type": "display_data"
    }
   ],
   "source": [
    "%%html\n",
    "<h2>chapter4 deep neural network   p.156</h2>\n",
    "<h3>活性化関数に双曲線正接関数 relu を使用した場合</h3>"
   ]
  },
  {
   "cell_type": "code",
   "execution_count": 2,
   "metadata": {},
   "outputs": [
    {
     "name": "stderr",
     "output_type": "stream",
     "text": [
      "Using TensorFlow backend.\n"
     ]
    }
   ],
   "source": [
    "import numpy as np\n",
    "from sklearn import datasets\n",
    "from sklearn.model_selection import train_test_split\n",
    "from keras.models import Sequential\n",
    "from keras.layers import Dense, Activation\n",
    "from keras.optimizers import SGD\n",
    "\n",
    "mnist = datasets.fetch_mldata('MNIST original', data_home='/var/tmp/' )\n",
    "\n",
    "n = len(mnist.data) # データ一覧\n",
    "N = 10000 # MNIST の一部のデータで実験\n",
    "indices = np.random.permutation(range(n))[:N] # ランダムにN枚を選択\n",
    "\n",
    "X = mnist.data[indices]\n",
    "y = mnist.target[indices]\n",
    "Y = np.eye(10)[y.astype(int)] # 1-0f-K 表現に変換\n",
    "\n",
    "X_train, X_test, Y_train, Y_test = train_test_split(X, Y, train_size=0.8)"
   ]
  },
  {
   "cell_type": "code",
   "execution_count": 3,
   "metadata": {
    "collapsed": true
   },
   "outputs": [],
   "source": [
    "# 試行回数\n",
    "epochs = 50\n",
    "# 学習率\n",
    "lerning_rate = 0.02\n",
    "# バッチサイズ\n",
    "batch_size = 100\n",
    "\n",
    "## モデル生成\n",
    "# 入力層 784 -> 隠れ層 200 -> 出力層 10\n",
    "n_in = len(X[0]) # 784\n",
    "n_hidden = 200\n",
    "n_out = len(Y[0]) # 10\n",
    "\n",
    "model = Sequential()\n",
    "# 入力層　隠れ層\n",
    "model.add(Dense(n_hidden, input_dim=n_in))\n",
    "model.add(Activation('relu'))\n",
    "\n",
    "# 隠れ層　隠れ層\n",
    "model.add(Dense(n_hidden)) \n",
    "model.add(Activation('relu'))\n",
    "# 隠れ層　隠れ層\n",
    "model.add(Dense(n_hidden)) \n",
    "model.add(Activation('relu'))\n",
    "# 隠れ層　隠れ層\n",
    "model.add(Dense(n_hidden)) \n",
    "model.add(Activation('relu'))\n",
    "\n",
    "# 隠れ層　出力層\n",
    "model.add(Dense(n_out)) \n",
    "model.add(Activation('softmax'))\n",
    "\n",
    "opt_sgd = SGD(lr=lerning_rate)\n",
    "model.compile(loss='categorical_crossentropy', optimizer=opt_sgd, metrics=['accuracy'])"
   ]
  },
  {
   "cell_type": "code",
   "execution_count": 4,
   "metadata": {},
   "outputs": [
    {
     "name": "stdout",
     "output_type": "stream",
     "text": [
      "1216/2000 [=================>............] - ETA: 0s\n",
      "loss_and_metrics: [14.482108535766601, 0.10150000000000001]\n"
     ]
    }
   ],
   "source": [
    "## モデル学習\n",
    "model.fit(X_train, Y_train, epochs=epochs, batch_size=batch_size, verbose=0)\n",
    "\n",
    "# 予測精度の評価\n",
    "loss_and_metrics = model.evaluate(X_test, Y_test)\n",
    "print()\n",
    "print('loss_and_metrics:', loss_and_metrics)"
   ]
  }
 ],
 "metadata": {
  "kernelspec": {
   "display_name": "Python 3",
   "language": "python",
   "name": "python3"
  },
  "language_info": {
   "codemirror_mode": {
    "name": "ipython",
    "version": 3
   },
   "file_extension": ".py",
   "mimetype": "text/x-python",
   "name": "python",
   "nbconvert_exporter": "python",
   "pygments_lexer": "ipython3",
   "version": "3.6.1"
  }
 },
 "nbformat": 4,
 "nbformat_minor": 2
}
