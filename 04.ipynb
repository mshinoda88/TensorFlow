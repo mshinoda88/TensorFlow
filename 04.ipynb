{
 "cells": [
  {
   "cell_type": "code",
   "execution_count": null,
   "metadata": {
    "collapsed": true
   },
   "outputs": [],
   "source": [
    "\"\"\"\n",
    "MNIST データ (MNIST handwritten digit database) と呼ばれる、0-9 の\n",
    "手書きの数字の画像データ (縦 82 x 横 82 px = 計 784 px) を利用します。\n",
    "このデータセットは 3 つに分かれており、\n",
    "訓練用 (Train) データ 55,000 件、\n",
    "テスト用 (Test) データ 10,000 件、\n",
    "検証用 (Validation) データ 5,000 件\n",
    "の 計 70,000 件で構成されています。\n",
    "\n",
    "以下コードで MNIST データを読み込みます。\n",
    "TensorFlow には、クイックに検証する目的で、MNIST データをダウンロードし、\n",
    "読み込む機能があらかじめ組み込まれています。\n",
    "\n",
    "\"\"\"\n",
    "# データの読み込み\n",
    "DIR_DATA = \"/var/tmp/work/MNIST_data\"\n",
    "\n",
    "# MNIST データセットを読み込む\n",
    "from tensorflow.examples.tutorials.mnist import input_data\n",
    "mnist = input_data.read_data_sets(DIR_DATA, one_hot=True)\n",
    "\n",
    "\"\"\"\n",
    "今回はSoftmax 回帰による予測モデルを作成します。\n",
    "Softmax 回帰は、多変量のロジスティック回帰を利用した多値分類の\n",
    "アルゴリズムで、予測モデルは以下式で表せます。\n",
    "　　 y = Softmax(Wx + b)\n",
    "   \n",
    "Y が目的変数 (0-9の数字)、\n",
    "X が入力変数 (256 階調のグレースケールで示される、\n",
    "  各ピクセルの濃淡を 0.0-1.0 で表したもの)、\n",
    "W が重み、\n",
    "b がバイアスの行列を意味\n",
    "\n",
    "入力データと出力データの格納領域として、プレースホルダ (placeholder) を作成します。\n",
    "また、重み行列とバイアス行列の格納領域として、Variable を作成します。\n",
    "\n",
    "今回は、最適な重みとバイアスを推定するためのコスト関数として、\n",
    "交差エントロピー (cross entropy) と呼ばれる指標を用います。\n",
    "この交差エントロピーが最も小さくなるように、TensorFlow に \n",
    "GradientDescentOptimizer として実装されている、\n",
    "勾配降下法 (Gradient descent) を用いて学習を進めます。\n",
    "\n",
    "\"\"\""
   ]
  },
  {
   "cell_type": "code",
   "execution_count": null,
   "metadata": {
    "collapsed": true
   },
   "outputs": [],
   "source": [
    "# Tensorflow を読み込み\n",
    "import tensorflow as tf\n",
    "\n",
    "plot_y = []\n",
    "\n",
    "# 予測精度の計算と記憶\n",
    "# y : 実際の値  　y_: 予測値  　ecpoch_i : 試行回数インデックス\n",
    "def calc_accurary(y, y_, epoch_i):\n",
    "    # 実際の値と予測された値が同じであるか確認\n",
    "    correct_prediction = tf.equal(tf.argmax(y,1), tf.argmax(y_,1))\n",
    "        \n",
    "    # 平均値を求め、予測精度を求める\n",
    "    accuracy = tf.reduce_mean(tf.cast(correct_prediction, tf.float32))\n",
    "        \n",
    "    # x にテストデータ、y_ に実際の値をあてはめ、上記で作成した式を実行\n",
    "    train_feed = {x: mnist.test.images, y_: mnist.test.labels}\n",
    "    val = sess.run(accuracy, feed_dict=train_feed)\n",
    "    plot_y.append(val)\n",
    "    if epoch_i % 10 == 0:\n",
    "        print('epoch:[{:>2d}] accurary:[{:>2.8f}]'.format(epoch_i, val))\n"
   ]
  },
  {
   "cell_type": "code",
   "execution_count": null,
   "metadata": {
    "collapsed": true
   },
   "outputs": [],
   "source": [
    "# 入力データ格納用の 784 px 分のプレースホルダを作成\n",
    "x = tf.placeholder(tf.float32, [None, 784])\n",
    "# 重み (784 x 10 の行列) の Variable を定義\n",
    "W = tf.Variable(tf.zeros([784, 10]))\n",
    "# バイアス (長さ 10 の行列) の Variable を定義\n",
    "b = tf.Variable(tf.zeros([10]))\n",
    "# エポック　試行回数\n",
    "epoch = 1500\n",
    "# 学習率\n",
    "learning_rate = 0.05\n",
    "\n",
    "# ソフトマックス回帰による予測式を定義\n",
    "y = tf.nn.softmax(tf.matmul(x, W) + b)\n",
    "# 出力データ (予測値) 格納用のプレースホルダ\n",
    "y_ = tf.placeholder(tf.float32, [None, 10])\n",
    "\n",
    "# 交差エントロピーを最小化するよう、学習を行う式を以下のように定義\n",
    "cross_entropy = tf.reduce_mean(-tf.reduce_sum(y_ * tf.log(y), reduction_indices=[1]))\n",
    "train_step = tf.train.GradientDescentOptimizer(learning_rate).minimize(cross_entropy)\n",
    "\n",
    "# TensorFlow session\n",
    "with tf.Session() as sess:\n",
    "    # you need to initialize all variables\n",
    "    tf.global_variables_initializer().run()\n",
    "\n",
    "    for i in range(epoch + 1):\n",
    "        # 訓練用データから 100 件取得\n",
    "        batch_xs, batch_ys = mnist.train.next_batch(100)\n",
    "        # train_step を実行\n",
    "        train_feed = {x: batch_xs, y_: batch_ys}\n",
    "        sess.run(train_step, feed_dict=train_feed)\n",
    "        \n",
    "        calc_accurary(y, y_, i)\n",
    "\n"
   ]
  },
  {
   "cell_type": "code",
   "execution_count": null,
   "metadata": {
    "collapsed": true
   },
   "outputs": [],
   "source": [
    "# 学習過程のグラフ表示\n",
    "import plotly\n",
    "plotly.offline.init_notebook_mode(connected=False)\n",
    "from plotly.graph_objs import Scatter, Layout\n",
    "\n",
    "def plot(plot_dic, height=500, width=500, **kwargs):\n",
    "    kwargs['output_type'] = 'div'\n",
    "    plot_str = plotly.offline.plot(plot_dic, **kwargs)\n",
    "    print('%%angular <div style=\"height: %ipx; width: %spx\"> %s </div>' % (height, width, plot_str))\n",
    "\n",
    "plot_x = np.arange(epoch + 1)\n",
    "plot({\n",
    "    \"data\": [\n",
    "        Scatter(x=plot_x, y=plot_y, name=\"accuracy\", yaxis=\"y2\")\n",
    "    ],\n",
    "    \"layout\": Layout(\n",
    "        title=\"tensorflow learning process\"\n",
    "    )\n",
    "})\n"
   ]
  }
 ],
 "metadata": {
  "kernelspec": {
   "display_name": "Python 3",
   "language": "python",
   "name": "python3"
  },
  "language_info": {
   "codemirror_mode": {
    "name": "ipython",
    "version": 3
   },
   "file_extension": ".py",
   "mimetype": "text/x-python",
   "name": "python",
   "nbconvert_exporter": "python",
   "pygments_lexer": "ipython3",
   "version": "3.6.1"
  }
 },
 "nbformat": 4,
 "nbformat_minor": 2
}
