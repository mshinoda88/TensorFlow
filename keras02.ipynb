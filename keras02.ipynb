{
 "cells": [
  {
   "cell_type": "code",
   "execution_count": 11,
   "metadata": {},
   "outputs": [
    {
     "data": {
      "text/html": [
       "<h2>Kerasによる実装 2：多クラスロジスティック回帰</h2>"
      ],
      "text/plain": [
       "<IPython.core.display.HTML object>"
      ]
     },
     "metadata": {},
     "output_type": "display_data"
    }
   ],
   "source": [
    "%%html\n",
    "<h2>Kerasによる実装 2：多クラスロジスティック回帰</h2>"
   ]
  },
  {
   "cell_type": "code",
   "execution_count": 12,
   "metadata": {
    "collapsed": true
   },
   "outputs": [],
   "source": [
    "#  モデルの生成\n",
    "import numpy as np\n",
    "from keras.models import Sequential\n",
    "from keras.layers import Dense, Activation\n",
    "from keras.optimizers import SGD\n",
    "\n",
    "# 試行回数\n",
    "epochs = 4000\n",
    "# 学習率\n",
    "lerning_rate = 0.1\n",
    "# バッチサイズ\n",
    "batch_size = 4\n",
    "\n",
    "## モデルの生成\n",
    "model = Sequential()\n",
    "# 入力層　隠れ層\n",
    "model.add(Dense(input_dim=2, units=2)) # units=2 -> 出力が2クラス\n",
    "model.add(Activation('sigmoid'))\n",
    "\n",
    "# 隠れ層　出力層\n",
    "model.add(Dense(units=1)) \n",
    "model.add(Activation('sigmoid'))\n",
    "\n",
    "opt_sgd = SGD(lr=lerning_rate)\n",
    "model.compile(loss='binary_crossentropy', optimizer=opt_sgd)\n"
   ]
  },
  {
   "cell_type": "code",
   "execution_count": 13,
   "metadata": {},
   "outputs": [
    {
     "name": "stdout",
     "output_type": "stream",
     "text": [
      "4/4 [==============================] - 0s\n",
      "4/4 [==============================] - 0s\n",
      "classified:\n",
      "[[0]\n",
      " [1]\n",
      " [1]\n",
      " [1]]\n",
      "\n",
      "output probability: [[ 0.04405998]\n",
      " [ 0.98674494]\n",
      " [ 0.98760146]\n",
      " [ 0.99467432]]\n"
     ]
    }
   ],
   "source": [
    "## p131\n",
    "# ORゲート\n",
    "X = np.array([[0,0], [0,1], [1,0], [1,1]])\n",
    "Y = np.array([[0], [1], [1], [1]])\n",
    "\n",
    "model.fit(X, Y, epochs=epochs, batch_size=batch_size, verbose=0)\n",
    "\n",
    "## 学習結果の確認\n",
    "classes = model.predict_classes(X, batch_size=batch_size)\n",
    "\n",
    "# 入力サンプルの各々のクラスの所属確率\n",
    "prob = model.predict_proba(X, batch_size=batch_size)\n",
    "\n",
    "print('classified:')\n",
    "print(classes)\n",
    "print()\n",
    "print('output probability:', prob)\n"
   ]
  },
  {
   "cell_type": "code",
   "execution_count": null,
   "metadata": {
    "collapsed": true
   },
   "outputs": [],
   "source": []
  }
 ],
 "metadata": {
  "kernelspec": {
   "display_name": "Python 3",
   "language": "python",
   "name": "python3"
  },
  "language_info": {
   "codemirror_mode": {
    "name": "ipython",
    "version": 3
   },
   "file_extension": ".py",
   "mimetype": "text/x-python",
   "name": "python",
   "nbconvert_exporter": "python",
   "pygments_lexer": "ipython3",
   "version": "3.6.1"
  }
 },
 "nbformat": 4,
 "nbformat_minor": 2
}
