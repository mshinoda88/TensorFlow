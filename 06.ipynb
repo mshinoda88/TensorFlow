{
 "cells": [
  {
   "cell_type": "code",
   "execution_count": 1,
   "metadata": {},
   "outputs": [
    {
     "data": {
      "text/html": [
       "<h2>Tensorflowによる実装 2：多クラスロジスティック回帰</h2>"
      ],
      "text/plain": [
       "<IPython.core.display.HTML object>"
      ]
     },
     "metadata": {},
     "output_type": "display_data"
    }
   ],
   "source": [
    "%%html\n",
    "<h2>Tensorflowによる実装 2：多クラスロジスティック回帰</h2>"
   ]
  },
  {
   "cell_type": "code",
   "execution_count": 2,
   "metadata": {},
   "outputs": [
    {
     "data": {
      "image/png": "[encoded data removed]",
      "text/plain": [
       "<matplotlib.figure.Figure at 0x7f52a0bfee10>"
      ]
     },
     "metadata": {},
     "output_type": "display_data"
    }
   ],
   "source": [
    "import numpy as np\n",
    "import os\n",
    "os.environ['TF_CPP_MIN_LOG_LEVEL']='2'\n",
    "\n",
    "from sklearn.utils import shuffle\n",
    "M = 2 # 入力データの次元\n",
    "K = 3 # クラス数\n",
    "n = 100   # クラスごとのデータ数\n",
    "N = n * K # 全データ数\n",
    "\n",
    "\n",
    "X1 = np.random.randn(n, M) + np.array([0, 10])\n",
    "X2 = np.random.randn(n, M) + np.array([5, 5])\n",
    "X3 = np.random.randn(n, M) + np.array([10, 0])\n",
    "\n",
    "Y1 = np.array([[1, 0, 0] for i in range(n)])\n",
    "Y2 = np.array([[0, 1, 0] for i in range(n)])\n",
    "Y3 = np.array([[0, 0, 1] for i in range(n)])\n",
    "\n",
    "X = np.concatenate((X1, X2, X3), axis=0)\n",
    "Y = np.concatenate((Y1, Y2, Y3), axis=0)\n",
    "\n",
    "import matplotlib.pyplot as plt\n",
    "# 散布図にプロットのための関数\n",
    "def plot(data1, data2, data3):\n",
    "    # キャンバスを描く\n",
    "    fig = plt.figure()\n",
    "    ax = fig.add_subplot(1,1,1)\n",
    "\n",
    "    x1, y1 = np.array([[x[0], x[1]] for x in data1]).T\n",
    "    ax.scatter(x1, y1, color='b')\n",
    "\n",
    "    x2, y2 = np.array([[x[0], x[1]] for x in data2]).T\n",
    "    ax.scatter(x2, y2, color='b')\n",
    "    \n",
    "    x3, y3 = np.array([[x[0], x[1]] for x in data3]).T\n",
    "    ax.scatter(x3, y3, color='b')\n",
    "    \n",
    "    plt.show()\n",
    "\n",
    "plot(X1, X2, X3)"
   ]
  },
  {
   "cell_type": "code",
   "execution_count": 49,
   "metadata": {},
   "outputs": [],
   "source": [
    "# 散布図 + 境界線プロット\n",
    "def plot2(data1, data2, data3,  W_val, b_val):\n",
    "    # キャンバスを描く\n",
    "    fig = plt.figure()\n",
    "    ax = fig.add_subplot(1,1,1)\n",
    "\n",
    "    x1, y1 = np.array([[x[0], x[1]] for x in data1]).T\n",
    "    ax.scatter(x1, y1, color='b')\n",
    "\n",
    "    x2, y2 = np.array([[x[0], x[1]] for x in data2]).T\n",
    "    ax.scatter(x2, y2, color='b')\n",
    "    \n",
    "    x3, y3 = np.array([[x[0], x[1]] for x in data3]).T\n",
    "    ax.scatter(x3, y3, color='b')\n",
    "    \n",
    "    line_x = np.linspace(-3,15,18)\n",
    "    line_y = - W_val[0][0] * line_x / W_val[1][0] - b_val[0] / W_val[1][0]\n",
    "    plt.plot(line_x, line_y, \"r-\") \n",
    "      \n",
    "    plt.show()\n"
   ]
  },
  {
   "cell_type": "code",
   "execution_count": 50,
   "metadata": {},
   "outputs": [
    {
     "name": "stdout",
     "output_type": "stream",
     "text": [
      "classified: [ True  True  True  True  True  True  True  True  True  True]\n",
      "output probability:: [[  7.67561083e-04   9.28887248e-01   7.03450963e-02]\n",
      " [  2.33345454e-09   4.49751318e-03   9.95502532e-01]\n",
      " [  2.23463215e-02   9.76074874e-01   1.57884671e-03]\n",
      " [  9.55990672e-01   4.40092273e-02   1.55223262e-07]\n",
      " [  1.87811838e-03   9.97193515e-01   9.28456080e-04]\n",
      " [  9.83710527e-01   1.62894838e-02   2.79754477e-08]\n",
      " [  9.90419805e-01   9.58026666e-03   1.79762711e-08]\n",
      " [  4.74170037e-10   7.91017711e-03   9.92089868e-01]\n",
      " [  9.96825814e-01   3.17420345e-03   4.12573586e-11]\n",
      " [  2.75607176e-10   2.46100128e-03   9.97539043e-01]]\n",
      "[[-1.22902501  0.32918784  0.89983809]\n",
      " [ 0.88357532  0.34727651 -1.23085213]]\n",
      "[-0.05931525  0.12551847 -0.06620319]\n"
     ]
    },
    {
     "data": {
      "image/png": "[encoded data removed]",
      "text/plain": [
       "<matplotlib.figure.Figure at 0x7f5267f75c88>"
      ]
     },
     "metadata": {},
     "output_type": "display_data"
    }
   ],
   "source": [
    "# 重み、バイアスの初期値\n",
    "import tensorflow as tf\n",
    "\n",
    "W = tf.Variable(tf.zeros([M, K]))\n",
    "b = tf.Variable(tf.zeros([K]))\n",
    "\n",
    "x = tf.placeholder(tf.float32, shape=[None, M])\n",
    "t = tf.placeholder(tf.float32, shape=[None, K])\n",
    "y = tf.nn.softmax(tf.matmul(x, W) + b)\n",
    "\n",
    "cross_entropy = tf.reduce_mean(-tf.reduce_sum(t * tf.log(y), reduction_indices=[1]))\n",
    "train_step = tf.train.GradientDescentOptimizer(0.1).minimize(cross_entropy)\n",
    "\n",
    "correct_prediction = tf.equal(tf.argmax(y, 1), tf.argmax(t, 1))\n",
    "\n",
    "batch_size = 50 # ミニバッチサイズ\n",
    "n_batches  = N  # バッチサイズ\n",
    "epochs = 30     # 試行回数\n",
    "\n",
    "# Launch the graph in a session\n",
    "with tf.Session() as sess:\n",
    "    # you need to initialize variables (in this case just variable W)\n",
    "    tf.global_variables_initializer().run()\n",
    "\n",
    "    for epoch in range(epochs):\n",
    "        X_, Y_ = shuffle(X, Y)\n",
    "        \n",
    "        for i in range(n_batches):\n",
    "            start = i * batch_size\n",
    "            end   = start + batch_size\n",
    "            train_feed = {x: X_[start:end], t: Y_[start:end]}\n",
    "            sess.run(train_step, feed_dict=train_feed)\n",
    "\n",
    "    # 学習結果の確認\n",
    "    X_, Y_ = shuffle(X, Y)\n",
    "    train_feed = {x: X_[0:10], t: Y_[0:10]}\n",
    "    classified = correct_prediction.eval(session=sess, feed_dict=train_feed)\n",
    "    prob = y.eval(session=sess, feed_dict={ x:X_[0:10] })\n",
    "    print('classified:', classified)\n",
    "    print('output probability::', prob)\n",
    "    \n",
    "    b_val, W_val = sess.run([b, W])\n",
    "    print(W_val)\n",
    "    print(b_val)\n",
    "    plot2(X1, X2, X3, W_val, b_val)"
   ]
  },
  {
   "cell_type": "code",
   "execution_count": null,
   "metadata": {
    "collapsed": true
   },
   "outputs": [],
   "source": []
  }
 ],
 "metadata": {
  "kernelspec": {
   "display_name": "Python 3",
   "language": "python",
   "name": "python3"
  },
  "language_info": {
   "codemirror_mode": {
    "name": "ipython",
    "version": 3
   },
   "file_extension": ".py",
   "mimetype": "text/x-python",
   "name": "python",
   "nbconvert_exporter": "python",
   "pygments_lexer": "ipython3",
   "version": "3.6.1"
  }
 },
 "nbformat": 4,
 "nbformat_minor": 2
}
