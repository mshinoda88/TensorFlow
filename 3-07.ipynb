{
 "cells": [
  {
   "cell_type": "code",
   "execution_count": 1,
   "metadata": {},
   "outputs": [
    {
     "data": {
      "text/html": [
       "<h2>Tensorflowによる実装 ３：予測の評価   p.135</h2>"
      ],
      "text/plain": [
       "<IPython.core.display.HTML object>"
      ]
     },
     "metadata": {},
     "output_type": "display_data"
    }
   ],
   "source": [
    "%%html\n",
    "<h2>Tensorflowによる実装 ３：予測の評価   p.135</h2>"
   ]
  },
  {
   "cell_type": "code",
   "execution_count": null,
   "metadata": {
    "collapsed": true
   },
   "outputs": [],
   "source": [
    "import os\n",
    "os.environ['TF_CPP_MIN_LOG_LEVEL']='2'\n",
    "\n",
    "from sklearn import datasets\n",
    "from sklearn.model_selection import train_test_split\n",
    "import tensorflow as tf\n",
    "import numpy as np\n",
    "from sklearn.utils import shuffle\n",
    "\n",
    "N = 300\n",
    "X, y = datasets.make_moons(N, noise=0.3)\n",
    "Y = y.reshape(N, 1)\n",
    "X_train, X_test, Y_train, Y_test = train_test_split(X, Y, train_size=0.8)\n",
    "\n",
    "num_hidden = 3\n",
    "learning_rate = 0.05\n",
    "\n",
    "x = tf.placeholder(tf.float32, shape=[None, 2])\n",
    "t = tf.placeholder(tf.float32, shape=[None, 1])\n",
    "\n",
    "# 入力層　- 隠れ層\n",
    "W = tf.Variable(tf.truncated_normal([2, num_hidden]))\n",
    "b = tf.Variable(tf.zeros([num_hidden]))\n",
    "h = tf.nn.sigmoid(tf.matmul(x, W) + b)\n",
    "\n",
    "#  隠れ層 - 出力層\n",
    "V = tf.Variable(tf.truncated_normal([num_hidden, 1]))\n",
    "c =  tf.Variable(tf.zeros([1]))\n",
    "y = tf.nn.sigmoid(tf.matmul(h, V) + c)\n",
    "\n",
    "cross_entropy = - tf.reduce_sum( t * tf.log(y) + (1 - t) * tf.log(1 - y) )\n",
    "train_step = tf.train.GradientDescentOptimizer(learning_rate).minimize(cross_entropy)\n",
    "correct_prediction = tf.equal( tf.to_float(tf.greater(y, 0.5)), t )\n",
    "\n",
    "accuracy = tf.reduce_mean( tf.cast(correct_prediction, tf.float32) )"
   ]
  },
  {
   "cell_type": "code",
   "execution_count": null,
   "metadata": {},
   "outputs": [
    {
     "name": "stdout",
     "output_type": "stream",
     "text": [
      "step  0  accuracy:0.86667\n",
      "step 10  accuracy:0.91667\n",
      "step 20  accuracy:0.91667\n",
      "step 30  accuracy:0.91667\n",
      "step 40  accuracy:0.91667\n",
      "step 50  accuracy:0.91667\n",
      "step 60  accuracy:0.91667\n",
      "step 70  accuracy:0.91667\n",
      "step 80  accuracy:0.91667\n",
      "step 90  accuracy:0.91667\n",
      "step 100  accuracy:0.91667\n",
      "step 110  accuracy:0.91667\n",
      "step 120  accuracy:0.91667\n",
      "step 130  accuracy:0.91667\n",
      "step 140  accuracy:0.91667\n",
      "step 150  accuracy:0.91667\n",
      "step 160  accuracy:0.91667\n",
      "step 170  accuracy:0.91667\n",
      "step 180  accuracy:0.91667\n",
      "step 190  accuracy:0.91667\n",
      "step 200  accuracy:0.91667\n",
      "step 210  accuracy:0.91667\n",
      "step 220  accuracy:0.91667\n",
      "step 230  accuracy:0.91667\n",
      "step 240  accuracy:0.91667\n"
     ]
    }
   ],
   "source": [
    "batch_size = 20 # ミニバッチサイズ\n",
    "n_batches  = N  # バッチサイズ\n",
    "epochs = 300     # 試行回数\n",
    "\n",
    "def calc_accuracy(X_test, Y_test, epoch_index):\n",
    "    if epoch_index % 10 == 0:\n",
    "        test_feed = {x: X_test, t: Y_test}\n",
    "        accuracy_rate = accuracy.eval(session=sess, feed_dict=test_feed)\n",
    "        print('step {:>2d}  accuracy:{:>2.5f}'.format(epoch_index, accuracy_rate) )\n",
    "    \n",
    "# Launch the graph in a session\n",
    "with tf.Session() as sess:\n",
    "    # you need to initialize variables (in this case just variable W)\n",
    "    tf.global_variables_initializer().run()\n",
    "\n",
    "    for epoch in range(epochs):\n",
    "        X_, Y_ = shuffle(X_train, Y_train)\n",
    "        \n",
    "        for i in range(n_batches):\n",
    "            start = i * batch_size\n",
    "            end   = start + batch_size\n",
    "            train_feed = {x: X_[start:end], t: Y_[start:end]}\n",
    "            sess.run(train_step, feed_dict=train_feed)\n",
    "        calc_accuracy(X_test, Y_test, epoch)"
   ]
  }
 ],
 "metadata": {
  "kernelspec": {
   "display_name": "Python 3",
   "language": "python",
   "name": "python3"
  },
  "language_info": {
   "codemirror_mode": {
    "name": "ipython",
    "version": 3
   },
   "file_extension": ".py",
   "mimetype": "text/x-python",
   "name": "python",
   "nbconvert_exporter": "python",
   "pygments_lexer": "ipython3",
   "version": "3.6.1"
  }
 },
 "nbformat": 4,
 "nbformat_minor": 2
}
