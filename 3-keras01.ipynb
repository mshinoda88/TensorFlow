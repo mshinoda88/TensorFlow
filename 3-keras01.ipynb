{
 "cells": [
  {
   "cell_type": "code",
   "execution_count": 1,
   "metadata": {},
   "outputs": [
    {
     "data": {
      "text/html": [
       "<h2>Kerasによる実装 1：単純パーセプトロン、ロジスティック回帰</h2>\n",
       "<a href=\"https://keras.io/ja/models/sequential/\" target=\"keras\">keras モデル生成 sequential</a>\n",
       "\n",
       "<br>\n",
       "<a href=\"https://keras.io/ja/layers/core/\" target=\"keras\">Dense /  Activation </a>\n",
       "<br>\n",
       "\n",
       "<a href=\"https://keras.io/ja/objectives/\" target=\"keras2\">keras 目的関数</a>"
      ],
      "text/plain": [
       "<IPython.core.display.HTML object>"
      ]
     },
     "metadata": {},
     "output_type": "display_data"
    }
   ],
   "source": [
    "%%html\n",
    "<h2>Kerasによる実装 1：単純パーセプトロン、ロジスティック回帰</h2>\n",
    "<a href=\"https://keras.io/ja/models/sequential/\" target=\"keras\">keras モデル生成 sequential</a>\n",
    "\n",
    "<br>\n",
    "<a href=\"https://keras.io/ja/layers/core/\" target=\"keras\">Dense /  Activation </a>\n",
    "<br>\n",
    "\n",
    "<a href=\"https://keras.io/ja/objectives/\" target=\"keras2\">keras 目的関数</a>"
   ]
  },
  {
   "cell_type": "code",
   "execution_count": 2,
   "metadata": {},
   "outputs": [
    {
     "name": "stderr",
     "output_type": "stream",
     "text": [
      "Using TensorFlow backend.\n"
     ]
    }
   ],
   "source": [
    "#  モデルの生成\n",
    "import numpy as np\n",
    "from keras.models import Sequential\n",
    "from keras.layers import Dense, Activation\n",
    "from keras.optimizers import SGD\n",
    "\n",
    "# 試行回数\n",
    "epochs = 200\n",
    "# 学習率\n",
    "lerning_rate = 0.05\n",
    "# バッチサイズ\n",
    "batch_size = 1\n",
    "\n",
    "# モデルの生成\n",
    "model = Sequential([\n",
    "    # 通常の全結合ニューラルネットワークレイヤー\n",
    "    Dense(input_dim=2, units=1),\n",
    "    # 出力に活性化関数を適用\n",
    "    Activation('sigmoid')\n",
    "])\n",
    "\n",
    "# model = Sequential()\n",
    "# model.add(Dense(input_dim=2, units=1))\n",
    "# model.add(Activation('sigmoid'))"
   ]
  },
  {
   "cell_type": "code",
   "execution_count": 3,
   "metadata": {
    "collapsed": true
   },
   "outputs": [],
   "source": [
    "#  目的関数の生成\n",
    "# https://keras.io/ja/objectives/\n",
    "\"\"\"\n",
    "目的関数の利用方法\n",
    "目的関数（ロス関数や最適スコア関数）はモデルをコンパイルする際に必要となるパラメータの1つです:\n",
    "既存の目的関数の名前を引数に与えるか，各データ点に対してスカラを返し，以下の2つの引数を\n",
    "取るTheano/TensorFlowのシンボリック関数を与えることができます:\n",
    "\n",
    "y_true: 正解ラベル．Theano/TensorFlow テンソル\n",
    "y_pred: 予測．y_trueと同じ形状のTheano/TensorFlow テンソル\n",
    "\n",
    "実際の目的関数は全データ点における出力の平均です．\n",
    "\n",
    "<利用可能な目的関数>\n",
    " mean_squared_error / mse\n",
    " mean_absolute_error / mae\n",
    " mean_absolute_percentage_error / mape\n",
    " mean_squared_logarithmic_error / msle\n",
    " squared_hinge\n",
    " hinge\n",
    " binary_crossentropy: loglossとしても知られています．\n",
    " categorical_crossentropy: マルチクラスloglossとしても知られています． \n",
    " sparse_categorical_crossentropy: categorical_crossentropyと同じですが，スパースラベルを取る点で違います．\n",
    " kullback_leibler_divergence / kld: 予測した確率分布Qから真の確率分布Pへの情報ゲイン．2つの分布の異なりの度合いを得る．\n",
    " poisson: (予測 - 正解 * log(予測))の平均\n",
    " cosine_proximity: 予測と正解間のコサイン類似度の負の平均\n",
    "\"\"\"\n",
    "opt_sgd = SGD(lr=lerning_rate, decay=1e-6, momentum=0.9, nesterov=True)\n",
    "model.compile(loss='binary_crossentropy', optimizer=opt_sgd)\n"
   ]
  },
  {
   "cell_type": "code",
   "execution_count": 4,
   "metadata": {},
   "outputs": [
    {
     "name": "stdout",
     "output_type": "stream",
     "text": [
      "1/4 [======>.......................] - ETA: 0sclassified:\n",
      "[[0]\n",
      " [1]\n",
      " [1]\n",
      " [1]]\n",
      "\n",
      "output probability: [[ 0.05130858]\n",
      " [ 0.97984606]\n",
      " [ 0.9798395 ]\n",
      " [ 0.99997711]]\n"
     ]
    }
   ],
   "source": [
    "import numpy as np\n",
    "\"\"\"\n",
    " モデル学習\n",
    "\"\"\"\n",
    "# ORゲート\n",
    "X = np.array([[0,0], [0,1], [1,0], [1,1]])\n",
    "Y = np.array([[0], [1], [1], [1]])\n",
    "\n",
    "model.fit(X, Y, epochs=epochs, batch_size=batch_size, verbose=0)\n",
    "\n",
    "\"\"\"\n",
    " 学習結果の確認\n",
    "\"\"\"\n",
    "\"\"\"\n",
    "predict_classes\n",
    "バッチごとに入力サンプルに対するクラスの予測を生成します\n",
    "\n",
    "戻り値\n",
    "属するクラスの予測を格納した Numpy 配列．\n",
    "\"\"\"\n",
    "classes = model.predict_classes(X, batch_size=batch_size)\n",
    "\n",
    "\"\"\"\n",
    "predict_proba\n",
    "入力サンプルの各々のクラスの所属確率を生成します\n",
    "\n",
    "戻り値\n",
    "確率の予測値を格納した Numpy 配列．\n",
    "\"\"\"\n",
    "prob = model.predict_proba(X, batch_size=batch_size)\n",
    "\n",
    "print('classified:')\n",
    "print(classes)\n",
    "print()\n",
    "print('output probability:', prob)"
   ]
  }
 ],
 "metadata": {
  "kernelspec": {
   "display_name": "Python 3",
   "language": "python",
   "name": "python3"
  },
  "language_info": {
   "codemirror_mode": {
    "name": "ipython",
    "version": 3
   },
   "file_extension": ".py",
   "mimetype": "text/x-python",
   "name": "python",
   "nbconvert_exporter": "python",
   "pygments_lexer": "ipython3",
   "version": "3.6.1"
  }
 },
 "nbformat": 4,
 "nbformat_minor": 2
}
