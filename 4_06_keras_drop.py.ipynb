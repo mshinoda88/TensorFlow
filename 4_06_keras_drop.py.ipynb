{
 "cells": [
  {
   "cell_type": "code",
   "execution_count": null,
   "metadata": {},
   "outputs": [
    {
     "data": {
      "text/html": [
       "<h2>Keras によるコーディング</h2>\n",
       "<ul>\n",
       "  <li>drop 0.5</li>\n",
       "  <li>activation: relu</li>\n",
       "  <li>hidden layer: 3</li>\n",
       "</ul>"
      ],
      "text/plain": [
       "<IPython.core.display.HTML object>"
      ]
     },
     "metadata": {},
     "output_type": "display_data"
    }
   ],
   "source": [
    "%%html\n",
    "<h2>Keras によるコーディング</h2>\n",
    "<ul>\n",
    "  <li>drop 0.5</li>\n",
    "  <li>activation: relu</li>\n",
    "  <li>hidden layer: 3</li>\n",
    "</ul>"
   ]
  },
  {
   "cell_type": "code",
   "execution_count": null,
   "metadata": {},
   "outputs": [
    {
     "name": "stderr",
     "output_type": "stream",
     "text": [
      "Using TensorFlow backend.\n"
     ]
    },
    {
     "name": "stdout",
     "output_type": "stream",
     "text": [
      "Train on 16000 samples, validate on 4000 samples\n",
      "Epoch 1/50\n",
      "16000/16000 [==============================] - 1s - loss: 2.2694 - acc: 0.1580 - val_loss: 2.1148 - val_acc: 0.3515\n",
      "Epoch 2/50\n",
      "16000/16000 [==============================] - 1s - loss: 1.4968 - acc: 0.4821 - val_loss: 0.7877 - val_acc: 0.7565\n",
      "Epoch 3/50\n",
      "16000/16000 [==============================] - 1s - loss: 0.8541 - acc: 0.7192 - val_loss: 0.5200 - val_acc: 0.8408\n",
      "Epoch 4/50\n",
      "16000/16000 [==============================] - 1s - loss: 0.6256 - acc: 0.8031 - val_loss: 0.3972 - val_acc: 0.8862\n",
      "Epoch 5/50\n",
      "16000/16000 [==============================] - 1s - loss: 0.5227 - acc: 0.8444 - val_loss: 0.3349 - val_acc: 0.9008\n",
      "Epoch 6/50\n",
      "16000/16000 [==============================] - 1s - loss: 0.4566 - acc: 0.8664 - val_loss: 0.2919 - val_acc: 0.9145\n",
      "Epoch 7/50\n",
      "16000/16000 [==============================] - 1s - loss: 0.3938 - acc: 0.8869 - val_loss: 0.2703 - val_acc: 0.9215\n",
      "Epoch 8/50\n",
      "16000/16000 [==============================] - 1s - loss: 0.3622 - acc: 0.8976 - val_loss: 0.2364 - val_acc: 0.9315\n",
      "Epoch 9/50\n",
      "16000/16000 [==============================] - 1s - loss: 0.3268 - acc: 0.9073 - val_loss: 0.2272 - val_acc: 0.9325\n",
      "Epoch 10/50\n",
      "16000/16000 [==============================] - 1s - loss: 0.3089 - acc: 0.9123 - val_loss: 0.2035 - val_acc: 0.9420\n",
      "Epoch 11/50\n",
      "16000/16000 [==============================] - 1s - loss: 0.2829 - acc: 0.9181 - val_loss: 0.1982 - val_acc: 0.9437\n",
      "Epoch 12/50\n",
      "16000/16000 [==============================] - 1s - loss: 0.2748 - acc: 0.9221 - val_loss: 0.1841 - val_acc: 0.9452\n",
      "Epoch 13/50\n",
      "16000/16000 [==============================] - 1s - loss: 0.2499 - acc: 0.9298 - val_loss: 0.1795 - val_acc: 0.9468\n",
      "Epoch 14/50\n",
      "16000/16000 [==============================] - 1s - loss: 0.2424 - acc: 0.9319 - val_loss: 0.1859 - val_acc: 0.9437\n",
      "Epoch 15/50\n",
      "16000/16000 [==============================] - 1s - loss: 0.2272 - acc: 0.9355 - val_loss: 0.1734 - val_acc: 0.9500\n",
      "Epoch 16/50\n",
      "16000/16000 [==============================] - 1s - loss: 0.2195 - acc: 0.9355 - val_loss: 0.1722 - val_acc: 0.9530\n",
      "Epoch 17/50\n",
      "16000/16000 [==============================] - 1s - loss: 0.2087 - acc: 0.9417 - val_loss: 0.1661 - val_acc: 0.9507\n",
      "Epoch 18/50\n",
      "16000/16000 [==============================] - 1s - loss: 0.2006 - acc: 0.9425 - val_loss: 0.1623 - val_acc: 0.9552\n",
      "Epoch 19/50\n",
      "16000/16000 [==============================] - 1s - loss: 0.1885 - acc: 0.9474 - val_loss: 0.1627 - val_acc: 0.9567\n",
      "Epoch 20/50\n",
      "16000/16000 [==============================] - 1s - loss: 0.1847 - acc: 0.9462 - val_loss: 0.1564 - val_acc: 0.9537\n",
      "Epoch 21/50\n",
      "16000/16000 [==============================] - 1s - loss: 0.1870 - acc: 0.9474 - val_loss: 0.1593 - val_acc: 0.9570\n",
      "Epoch 22/50\n",
      "16000/16000 [==============================] - 1s - loss: 0.1735 - acc: 0.9509 - val_loss: 0.1568 - val_acc: 0.9563\n",
      "Epoch 23/50\n",
      "16000/16000 [==============================] - 1s - loss: 0.1714 - acc: 0.9507 - val_loss: 0.1507 - val_acc: 0.9588\n",
      "Epoch 24/50\n",
      "16000/16000 [==============================] - 1s - loss: 0.1615 - acc: 0.9539 - val_loss: 0.1481 - val_acc: 0.9607\n",
      "Epoch 25/50\n",
      "16000/16000 [==============================] - 1s - loss: 0.1601 - acc: 0.9534 - val_loss: 0.1544 - val_acc: 0.9595\n",
      "Epoch 26/50\n",
      "16000/16000 [==============================] - 1s - loss: 0.1559 - acc: 0.9544 - val_loss: 0.1521 - val_acc: 0.9607\n",
      "Epoch 27/50\n",
      "16000/16000 [==============================] - 1s - loss: 0.1468 - acc: 0.9557 - val_loss: 0.1552 - val_acc: 0.9597\n",
      "Epoch 28/50\n",
      " 8200/16000 [==============>...............] - ETA: 0s - loss: 0.1454 - acc: 0.9589"
     ]
    }
   ],
   "source": [
    "import numpy as np\n",
    "from keras.models import Sequential\n",
    "from keras.layers.core import Dense, Activation, Dropout\n",
    "from keras.optimizers import SGD\n",
    "from keras import backend as K\n",
    "from sklearn import datasets\n",
    "from sklearn.model_selection import train_test_split\n",
    "import matplotlib.pyplot as plt\n",
    "\n",
    "np.random.seed(123)\n",
    "\n",
    "'''\n",
    "データの生成\n",
    "'''\n",
    "mnist = datasets.fetch_mldata('MNIST original', data_home='.')\n",
    "\n",
    "n = len(mnist.data)\n",
    "N = 30000  # MNISTの一部を使う\n",
    "N_train = 20000\n",
    "N_validation = 4000\n",
    "indices = np.random.permutation(range(n))[:N]  # ランダムにN枚を選択\n",
    "\n",
    "X = mnist.data[indices]\n",
    "y = mnist.target[indices]\n",
    "Y = np.eye(10)[y.astype(int)]\n",
    "\n",
    "X_train, X_test, Y_train, Y_test = \\\n",
    "    train_test_split(X, Y, train_size=N_train)\n",
    "X_train, X_validation, Y_train, Y_validation = \\\n",
    "    train_test_split(X_train, Y_train, test_size=N_validation)\n",
    "\n",
    "'''\n",
    "モデル設定\n",
    "'''\n",
    "n_in = len(X[0])  # 784\n",
    "n_hiddens = [200, 200, 200]\n",
    "n_out = len(Y[0])  # 10\n",
    "p_keep = 0.5\n",
    "activation = 'relu'\n",
    "\n",
    "\n",
    "def weight_variable(shape):\n",
    "    return K.truncated_normal(shape, stddev=0.01)\n",
    "    # return np.random.normal(scale=0.01, size=shape)\n",
    "\n",
    "\n",
    "model = Sequential()\n",
    "for i, input_dim in enumerate(([n_in] + n_hiddens)[:-1]):\n",
    "    model.add(Dense(n_hiddens[i], input_dim=input_dim,\n",
    "                    kernel_initializer=weight_variable))\n",
    "    model.add(Activation(activation))\n",
    "    model.add(Dropout(p_keep))\n",
    "\n",
    "model.add(Dense(n_out, kernel_initializer=weight_variable))\n",
    "model.add(Activation('softmax'))\n",
    "\n",
    "model.compile(loss='categorical_crossentropy',\n",
    "              optimizer=SGD(lr=0.01),\n",
    "              metrics=['accuracy'])\n",
    "\n",
    "'''\n",
    "モデル学習\n",
    "'''\n",
    "epochs = 50\n",
    "batch_size = 200\n",
    "\n",
    "hist = model.fit(X_train, Y_train, epochs=epochs,\n",
    "                 batch_size=batch_size,\n",
    "                 validation_data=(X_validation, Y_validation))\n",
    "\n",
    "\n",
    "'''\n",
    "予測精度の評価\n",
    "'''\n",
    "loss_and_metrics = model.evaluate(X_test, Y_test)\n",
    "print(loss_and_metrics)"
   ]
  },
  {
   "cell_type": "code",
   "execution_count": null,
   "metadata": {
    "collapsed": true
   },
   "outputs": [],
   "source": [
    "'''\n",
    "学習の進み具合を可視化\n",
    "'''\n",
    "val_acc = hist.history['val_acc']\n",
    "val_loss = hist.history['val_loss']\n",
    "\n",
    "plt.rc('font', family='serif')\n",
    "fig = plt.figure()\n",
    "plt.plot(range(epochs), val_acc, label='acc', color='black')\n",
    "plt.xlabel('epochs')\n",
    "plt.show()\n"
   ]
  }
 ],
 "metadata": {
  "kernelspec": {
   "display_name": "Python 3",
   "language": "python",
   "name": "python3"
  },
  "language_info": {
   "codemirror_mode": {
    "name": "ipython",
    "version": 3
   },
   "file_extension": ".py",
   "mimetype": "text/x-python",
   "name": "python",
   "nbconvert_exporter": "python",
   "pygments_lexer": "ipython3",
   "version": "3.6.1"
  }
 },
 "nbformat": 4,
 "nbformat_minor": 2
}
