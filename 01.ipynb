{
 "cells": [
  {
   "cell_type": "code",
   "execution_count": null,
   "metadata": {},
   "outputs": [],
   "source": [
    "import tensorflow as tf\n",
    "import numpy as np\n",
    "\n",
    "trX = np.linspace(-1, 1, 101)\n",
    "# バイアス(=3)を含んだモデルとする\n",
    "target_w = 2.\n",
    "target_b = 3.\n",
    "noise_gain = 0.33\n",
    "trY = target_w * trX + target_b + np.random.randn(*trX.shape) * noise_gain\n",
    "epoch = 130\n",
    "\n",
    "def model(X, w, b):\n",
    "    # 線形予測子のモデル\n",
    "    # オリジナルコードでは tf.muliply() を使っているが演算子 \"*\" でOK.\n",
    "    # return tf.multiply(X, w) + b\n",
    "    return X * w + b\n",
    "\n",
    "# TensorFlow placeholders -> train_feed で後ほど値をアサインする\n",
    "X = tf.placeholder(tf.float32)\n",
    "Y = tf.placeholder(tf.float32)\n",
    "\n",
    "# TensorFlow Variables\n",
    "w = tf.Variable(0.0, name=\"weights\")    # initialize\n",
    "b = tf.Variable(0.0, name=\"bias\")       # initialize\n",
    "\n",
    "# 説明変数X, 重みw, バイアスb から目的変数 y_model を表すモデル\n",
    "y_model = model(X, w, b)\n",
    "\n",
    "# コスト関数 Y と y_model の誤差\n",
    "#  回帰モデルなのでSquare Errorを定義する\n",
    "cost = tf.reduce_mean(tf.square(Y - y_model))\n",
    "# 最適化演算子(オプティマイザ) AdamOptimizer をセット. 学習率 = 0.01\n",
    "train_op = tf.train.AdamOptimizer(0.001).minimize(cost)\n",
    "\n",
    "# Launch the graph in a session\n",
    "with tf.Session() as sess:\n",
    "    # you need to initialize variables (in this case just variable W)\n",
    "    tf.global_variables_initializer().run()\n",
    "\n",
    "    for i in range(epoch + 1):\n",
    "        for (x, y) in zip(trX, trY):\n",
    "            train_feed = {X: x, Y: y}\n",
    "            sess.run(train_op, feed_dict=train_feed)\n",
    "        if i % 10 == 0:\n",
    "            w2, b2 = sess.run([w, b])\n",
    "            print('predicted model[{:>2d}]: y = [{:>8.5f}] * x + [{:>8.5f}]'.format(i, w2, b2))\n",
    "\n",
    "    final_w, final_b = sess.run([w, b])\n",
    "\n",
    "# (w, b) = (2, 3)の近似値になる.\n",
    "print('predicted model: y = [{:>8.5f}] * x + [{:>8.5f}]'.format(\n",
    "                                        final_w, final_b))\n",
    "print('target model   : y = [{:>8.5f}] * x + [{:>8.5f}]'.format(\n",
    "                                        target_w, target_b))"
   ]
  },
  {
   "cell_type": "code",
   "execution_count": null,
   "metadata": {
    "collapsed": true
   },
   "outputs": [],
   "source": []
  }
 ],
 "metadata": {
  "kernelspec": {
   "display_name": "Python 3",
   "language": "python",
   "name": "python3"
  },
  "language_info": {
   "codemirror_mode": {
    "name": "ipython",
    "version": 3
   },
   "file_extension": ".py",
   "mimetype": "text/x-python",
   "name": "python",
   "nbconvert_exporter": "python",
   "pygments_lexer": "ipython3",
   "version": "3.6.1"
  }
 },
 "nbformat": 4,
 "nbformat_minor": 2
}
