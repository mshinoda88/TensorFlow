{
 "cells": [
  {
   "cell_type": "code",
   "execution_count": 1,
   "metadata": {},
   "outputs": [
    {
     "name": "stdout",
     "output_type": "stream",
     "text": [
      "predicted model[ 0]: y = [ 0.00905] * x + [ 0.12382]\n",
      "predicted model[10]: y = [ 0.37576] * x + [ 0.98202]\n",
      "predicted model[20]: y = [ 0.72810] * x + [ 1.68465]\n",
      "predicted model[30]: y = [ 1.07402] * x + [ 2.24287]\n",
      "predicted model[40]: y = [ 1.40438] * x + [ 2.64168]\n",
      "predicted model[50]: y = [ 1.69326] * x + [ 2.87050]\n",
      "predicted model[60]: y = [ 1.90172] * x + [ 2.95865]\n",
      "predicted model[70]: y = [ 2.00919] * x + [ 2.97663]\n",
      "predicted model[80]: y = [ 2.04450] * x + [ 2.97788]\n",
      "predicted model[90]: y = [ 2.05210] * x + [ 2.97774]\n",
      "predicted model[100]: y = [ 2.05335] * x + [ 2.97770]\n",
      "predicted model[110]: y = [ 2.05354] * x + [ 2.97769]\n",
      "predicted model[120]: y = [ 2.05357] * x + [ 2.97769]\n",
      "predicted model: y = [ 2.05357] * x + [ 2.97769]\n",
      "target model   : y = [ 2.00000] * x + [ 3.00000]\n"
     ]
    }
   ],
   "source": [
    "import tensorflow as tf\n",
    "import numpy as np\n",
    "\n",
    "trX = np.linspace(-1, 1, 101)\n",
    "# バイアス(=3)を含んだモデルとする\n",
    "target_w = 2.\n",
    "target_b = 3.\n",
    "noise_gain = 0.33\n",
    "trY = target_w * trX + target_b + np.random.randn(*trX.shape) * noise_gain\n",
    "epoch = 130\n",
    "\n",
    "def model(X, w, b):\n",
    "    # 線形予測子のモデル\n",
    "    # オリジナルコードでは tf.muliply() を使っているが演算子 \"*\" でOK.\n",
    "    # return tf.multiply(X, w) + b\n",
    "    return X * w + b\n",
    "\n",
    "# TensorFlow placeholders -> train_feed で後ほど値をアサインする\n",
    "X = tf.placeholder(tf.float32)\n",
    "Y = tf.placeholder(tf.float32)\n",
    "\n",
    "# TensorFlow Variables\n",
    "w = tf.Variable(0.0, name=\"weights\")    # initialize\n",
    "b = tf.Variable(0.0, name=\"bias\")       # initialize\n",
    "\n",
    "# 説明変数X, 重みw, バイアスb から目的変数 y_model を表すモデル\n",
    "y_model = model(X, w, b)\n",
    "\n",
    "# コスト関数 Y と y_model の誤差\n",
    "#  回帰モデルなのでSquare Errorを定義する\n",
    "cost = tf.reduce_mean(tf.square(Y - y_model))\n",
    "# 最適化演算子(オプティマイザ) AdamOptimizer をセット. 学習率 = 0.01\n",
    "train_op = tf.train.AdamOptimizer(0.001).minimize(cost)\n",
    "\n",
    "# Launch the graph in a session\n",
    "with tf.Session() as sess:\n",
    "    # you need to initialize variables (in this case just variable W)\n",
    "    tf.global_variables_initializer().run()\n",
    "\n",
    "    for i in range(epoch):\n",
    "        for (x, y) in zip(trX, trY):\n",
    "            train_feed = {X: x, Y: y}\n",
    "            sess.run(train_op, feed_dict=train_feed)\n",
    "        if i % 10 == 0:\n",
    "            w2, b2 = sess.run([w, b])\n",
    "            print('predicted model[{:>2d}]: y = [{:>8.5f}] * x + [{:>8.5f}]'.format(i, w2, b2))\n",
    "\n",
    "    final_w, final_b = sess.run([w, b])\n",
    "\n",
    "# (w, b) = (2, 3)の近似値になる.\n",
    "print('predicted model: y = [{:>8.5f}] * x + [{:>8.5f}]'.format(\n",
    "                                        final_w, final_b))\n",
    "print('target model   : y = [{:>8.5f}] * x + [{:>8.5f}]'.format(\n",
    "                                        target_w, target_b))"
   ]
  },
  {
   "cell_type": "code",
   "execution_count": null,
   "metadata": {
    "collapsed": true
   },
   "outputs": [],
   "source": []
  }
 ],
 "metadata": {
  "kernelspec": {
   "display_name": "Python 3",
   "language": "python",
   "name": "python3"
  },
  "language_info": {
   "codemirror_mode": {
    "name": "ipython",
    "version": 3
   },
   "file_extension": ".py",
   "mimetype": "text/x-python",
   "name": "python",
   "nbconvert_exporter": "python",
   "pygments_lexer": "ipython3",
   "version": "3.6.1"
  }
 },
 "nbformat": 4,
 "nbformat_minor": 2
}
