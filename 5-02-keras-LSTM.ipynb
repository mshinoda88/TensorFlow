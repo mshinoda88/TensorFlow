{
 "cells": [
  {
   "cell_type": "code",
   "execution_count": 1,
   "metadata": {},
   "outputs": [
    {
     "data": {
      "text/html": [
       "<h2>Keras による LSTM実装</h2>\n",
       "<ul>\n",
       "  <li>サンプル2</li>\n",
       "</ul>"
      ],
      "text/plain": [
       "<IPython.core.display.HTML object>"
      ]
     },
     "metadata": {},
     "output_type": "display_data"
    }
   ],
   "source": [
    "%%html\n",
    "<h2>Keras による LSTM実装</h2>\n",
    "<ul>\n",
    "  <li>サンプル2</li>\n",
    "</ul>"
   ]
  },
  {
   "cell_type": "code",
   "execution_count": 2,
   "metadata": {},
   "outputs": [
    {
     "name": "stderr",
     "output_type": "stream",
     "text": [
      "Using TensorFlow backend.\n"
     ]
    },
    {
     "name": "stdout",
     "output_type": "stream",
     "text": [
      "Train on 158 samples, validate on 18 samples\n",
      "Epoch 1/500\n",
      "158/158 [==============================] - 1s - loss: 0.5111 - val_loss: 0.4135\n",
      "Epoch 2/500\n",
      "158/158 [==============================] - 0s - loss: 0.4596 - val_loss: 0.3210\n",
      "Epoch 3/500\n",
      "158/158 [==============================] - 0s - loss: 0.3144 - val_loss: 0.2367\n",
      "Epoch 4/500\n",
      "158/158 [==============================] - 0s - loss: 0.2408 - val_loss: 0.1756\n",
      "Epoch 5/500\n",
      "158/158 [==============================] - 0s - loss: 0.1687 - val_loss: 0.1261\n",
      "Epoch 6/500\n",
      "158/158 [==============================] - 0s - loss: 0.1108 - val_loss: 0.0715\n",
      "Epoch 7/500\n",
      "158/158 [==============================] - 0s - loss: 0.0594 - val_loss: 0.0354\n",
      "Epoch 8/500\n",
      "158/158 [==============================] - 0s - loss: 0.0269 - val_loss: 0.0179\n",
      "Epoch 9/500\n",
      "158/158 [==============================] - 0s - loss: 0.0170 - val_loss: 0.0138\n",
      "Epoch 10/500\n",
      "158/158 [==============================] - 0s - loss: 0.0109 - val_loss: 0.0201\n",
      "Epoch 11/500\n",
      "158/158 [==============================] - 0s - loss: 0.0084 - val_loss: 0.0067\n",
      "Epoch 12/500\n",
      "158/158 [==============================] - 0s - loss: 0.0066 - val_loss: 0.0051\n",
      "Epoch 13/500\n",
      "158/158 [==============================] - 0s - loss: 0.0063 - val_loss: 0.0049\n",
      "Epoch 14/500\n",
      "158/158 [==============================] - 0s - loss: 0.0051 - val_loss: 0.0039\n",
      "Epoch 15/500\n",
      "158/158 [==============================] - 0s - loss: 0.0032 - val_loss: 0.0051\n",
      "Epoch 16/500\n",
      "158/158 [==============================] - 0s - loss: 0.0029 - val_loss: 0.0046\n",
      "Epoch 17/500\n",
      "158/158 [==============================] - 0s - loss: 0.0025 - val_loss: 0.0033\n",
      "Epoch 18/500\n",
      "158/158 [==============================] - 0s - loss: 0.0019 - val_loss: 0.0025\n",
      "Epoch 19/500\n",
      "158/158 [==============================] - 0s - loss: 0.0018 - val_loss: 0.0019\n",
      "Epoch 20/500\n",
      "158/158 [==============================] - 0s - loss: 0.0014 - val_loss: 0.0025\n",
      "Epoch 21/500\n",
      "158/158 [==============================] - 0s - loss: 0.0012 - val_loss: 0.0019\n",
      "Epoch 22/500\n",
      "158/158 [==============================] - 0s - loss: 0.0011 - val_loss: 0.0018\n",
      "Epoch 23/500\n",
      "158/158 [==============================] - 0s - loss: 0.0011 - val_loss: 0.0014\n",
      "Epoch 24/500\n",
      "158/158 [==============================] - 0s - loss: 0.0011 - val_loss: 0.0012- loss: 0.001\n",
      "Epoch 25/500\n",
      "158/158 [==============================] - 0s - loss: 0.0010 - val_loss: 0.0018\n",
      "Epoch 26/500\n",
      "158/158 [==============================] - 0s - loss: 9.7273e-04 - val_loss: 0.0020\n",
      "Epoch 27/500\n",
      "158/158 [==============================] - 0s - loss: 0.0011 - val_loss: 0.0018\n",
      "Epoch 28/500\n",
      "158/158 [==============================] - 0s - loss: 9.9217e-04 - val_loss: 0.0016\n",
      "Epoch 29/500\n",
      "158/158 [==============================] - 0s - loss: 0.0010 - val_loss: 0.0016\n",
      "Epoch 30/500\n",
      "158/158 [==============================] - 0s - loss: 9.4840e-04 - val_loss: 0.0013\n",
      "Epoch 31/500\n",
      "158/158 [==============================] - 0s - loss: 9.2537e-04 - val_loss: 0.0014\n",
      "Epoch 32/500\n",
      "158/158 [==============================] - 0s - loss: 9.1621e-04 - val_loss: 0.0012\n",
      "Epoch 33/500\n",
      "158/158 [==============================] - 0s - loss: 0.0010 - val_loss: 0.0014\n",
      "Epoch 34/500\n",
      "158/158 [==============================] - 0s - loss: 8.9557e-04 - val_loss: 0.0018\n",
      "Epoch 35/500\n",
      "158/158 [==============================] - 0s - loss: 0.0010 - val_loss: 0.0025\n",
      "Epoch 00034: early stopping\n"
     ]
    }
   ],
   "source": [
    "import numpy as np\n",
    "import matplotlib.pyplot as plt\n",
    "from keras.models import Sequential\n",
    "from keras.layers.core import Dense, Activation\n",
    "from keras.layers.recurrent import LSTM\n",
    "from keras.optimizers import Adam\n",
    "from keras.callbacks import EarlyStopping\n",
    "from sklearn.model_selection import train_test_split\n",
    "from sklearn.utils import shuffle\n",
    "\n",
    "np.random.seed(0)\n",
    "\n",
    "\n",
    "def sin(x, T=100):\n",
    "    return np.sin(2.0 * np.pi * x / T)\n",
    "\n",
    "\n",
    "def toy_problem(T=100, ampl=0.05):\n",
    "    x = np.arange(0, 2 * T + 1)\n",
    "    noise = ampl * np.random.uniform(low=-1.0, high=1.0, size=len(x))\n",
    "    return sin(x) + noise\n",
    "\n",
    "\n",
    "'''\n",
    "データの生成\n",
    "'''\n",
    "T = 100\n",
    "f = toy_problem(T)\n",
    "\n",
    "length_of_sequences = 2 * T\n",
    "maxlen = 25  # ひとつの時系列データの長さ\n",
    "\n",
    "data = []\n",
    "target = []\n",
    "\n",
    "for i in range(0, length_of_sequences - maxlen + 1):\n",
    "    data.append(f[i: i + maxlen])\n",
    "    target.append(f[i + maxlen])\n",
    "\n",
    "X = np.array(data).reshape(len(data), maxlen, 1)\n",
    "Y = np.array(target).reshape(len(data), 1)\n",
    "\n",
    "# データ設定\n",
    "N_train = int(len(data) * 0.9)\n",
    "N_validation = len(data) - N_train\n",
    "\n",
    "X_train, X_validation, Y_train, Y_validation = \\\n",
    "    train_test_split(X, Y, test_size=N_validation)\n",
    "\n",
    "'''\n",
    "モデル設定\n",
    "'''\n",
    "n_in = len(X[0][0])  # 1\n",
    "n_hidden = 30\n",
    "n_out = len(Y[0])  # 1\n",
    "\n",
    "\n",
    "def weight_variable(shape, name=None):\n",
    "    return np.random.normal(scale=.01, size=shape)\n",
    "\n",
    "\n",
    "early_stopping = EarlyStopping(monitor='val_loss', patience=10, verbose=1)\n",
    "\n",
    "model = Sequential()\n",
    "model.add(LSTM(n_hidden,\n",
    "               kernel_initializer=weight_variable,\n",
    "               input_shape=(maxlen, n_in)))\n",
    "model.add(Dense(n_out, kernel_initializer=weight_variable))\n",
    "model.add(Activation('linear'))\n",
    "\n",
    "optimizer = Adam(lr=0.001, beta_1=0.9, beta_2=0.999)\n",
    "model.compile(loss='mean_squared_error',\n",
    "              optimizer=optimizer)\n",
    "\n",
    "'''\n",
    "モデル学習\n",
    "'''\n",
    "epochs = 500\n",
    "batch_size = 10\n",
    "\n",
    "model.fit(X_train, Y_train,\n",
    "          batch_size=batch_size,\n",
    "          epochs=epochs,\n",
    "          validation_data=(X_validation, Y_validation),\n",
    "          callbacks=[early_stopping])\n",
    "\n",
    "'''\n",
    "出力を用いて予測\n",
    "'''\n",
    "truncate = maxlen\n",
    "Z = X[:1]  # 元データの最初の一部だけ切り出し\n",
    "\n",
    "original = [f[i] for i in range(maxlen)]\n",
    "predicted = [None for i in range(maxlen)]\n",
    "\n",
    "for i in range(length_of_sequences - maxlen + 1):\n",
    "    z_ = Z[-1:]\n",
    "    y_ = model.predict(z_)\n",
    "    sequence_ = np.concatenate(\n",
    "        (z_.reshape(maxlen, n_in)[1:], y_),\n",
    "        axis=0).reshape(1, maxlen, n_in)\n",
    "    Z = np.append(Z, sequence_, axis=0)\n",
    "    predicted.append(y_.reshape(-1))\n",
    "\n"
   ]
  },
  {
   "cell_type": "code",
   "execution_count": 4,
   "metadata": {},
   "outputs": [
    {
     "name": "stdout",
     "output_type": "stream",
     "text": [
      "score: 0.00249852873902\n"
     ]
    }
   ],
   "source": [
    "## 評価\n",
    "# https://keras.io/ja/models/sequential/\n",
    "score = model.evaluate(X_validation, Y_validation, batch_size=batch_size,verbose=0)\n",
    "print(\"score:\", score)"
   ]
  },
  {
   "cell_type": "code",
   "execution_count": 5,
   "metadata": {},
   "outputs": [
    {
     "data": {
      "image/png": "[encoded data removed]",
      "text/plain": [
       "<matplotlib.figure.Figure at 0x7f90251df6a0>"
      ]
     },
     "metadata": {},
     "output_type": "display_data"
    }
   ],
   "source": [
    "'''\n",
    "グラフで可視化\n",
    "'''\n",
    "plt.rc('font', family='serif')\n",
    "plt.figure()\n",
    "plt.ylim([-1.5, 1.5])\n",
    "plt.plot(toy_problem(T, ampl=0), linestyle='dotted', color='#aaaaaa')\n",
    "#plt.plot(original, linestyle='dashed', color='black')\n",
    "plt.plot(predicted, color='black')\n",
    "plt.show()\n"
   ]
  },
  {
   "cell_type": "code",
   "execution_count": null,
   "metadata": {
    "collapsed": true
   },
   "outputs": [],
   "source": []
  }
 ],
 "metadata": {
  "kernelspec": {
   "display_name": "Python 3",
   "language": "python",
   "name": "python3"
  },
  "language_info": {
   "codemirror_mode": {
    "name": "ipython",
    "version": 3
   },
   "file_extension": ".py",
   "mimetype": "text/x-python",
   "name": "python",
   "nbconvert_exporter": "python",
   "pygments_lexer": "ipython3",
   "version": "3.6.1"
  }
 },
 "nbformat": 4,
 "nbformat_minor": 2
}
