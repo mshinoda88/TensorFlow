{
 "cells": [
  {
   "cell_type": "code",
   "execution_count": 1,
   "metadata": {},
   "outputs": [
    {
     "name": "stdout",
     "output_type": "stream",
     "text": [
      "step   0: accuracy =    0.808\n",
      "step  10: accuracy =    0.931\n",
      "step  20: accuracy =    0.936\n",
      "step  30: accuracy =    0.939\n",
      "step  40: accuracy =    0.944\n",
      "step  50: accuracy =    0.947\n",
      "step  60: accuracy =    0.947\n",
      "step  70: accuracy =    0.950\n",
      "step  80: accuracy =    0.950\n",
      "step  90: accuracy =    0.947\n",
      "step 100: accuracy =    0.947\n",
      "step 110: accuracy =    0.947\n",
      "step 120: accuracy =    0.950\n"
     ]
    }
   ],
   "source": [
    "#  TensorFlow Tutorials / ロジスティック回帰\n",
    "\n",
    "import tensorflow as tf\n",
    "import numpy as np\n",
    "from sklearn.datasets import load_digits\n",
    "from sklearn.model_selection import train_test_split\n",
    "\n",
    "# weights 初期化のサポート関数\n",
    "def init_weights(shape):\n",
    "    return tf.Variable(tf.random_normal(shape, stddev=0.01))\n",
    "\n",
    "# オリジナルコードでは，バイアスをmodelに入れていないが，本コードは入れる．\n",
    "def model(X, w, b):\n",
    "    return tf.matmul(X, w) + b\n",
    "\n",
    "# digits は，scikit-learn が用意する手書き文字データセット．pixel: 8 x 8\n",
    "def load_data():\n",
    "    digits = load_digits()\n",
    "    digits_images = digits.data / 16.   # scaling to (0 .. 1)\n",
    "    digits_target_ = []\n",
    "    for i in range(len(digits.target)):\n",
    "        target_one = np.zeros([10], dtype=np.float32)\n",
    "        target_one[digits.target[i]] = 1.\n",
    "        digits_target_.append(target_one)\n",
    "    digits_target_onehot = np.asarray(digits_target_)\n",
    "    return digits_images, digits_target_onehot\n",
    "\n",
    "X, Y = load_data()\n",
    "\n",
    "# train / test セットに分割する\n",
    "trX, teX, trY, teY =  train_test_split(X, Y, test_size=0.2)\n",
    "\n",
    "# TensorFlow placeholders\n",
    "X_ph = tf.placeholder(tf.float32, [None, 64])\n",
    "Y_ph = tf.placeholder(tf.float32, [None, 10])\n",
    "\n",
    "# オリジナルコードでは，バイアスをmodelに入れていないが，本コードでは入れる．\n",
    "w = init_weights([64, 10])\n",
    "b = tf.zeros([10])\n",
    "\n",
    "py_x = model(X_ph, w, b)\n",
    "epoch = 120\n",
    "\n",
    "# コスト関数，オプティマイザ，予測\n",
    "cost = tf.nn.softmax_cross_entropy_with_logits(logits=py_x, labels=Y_ph)\n",
    "train_op = tf.train.GradientDescentOptimizer(0.01).minimize(cost)\n",
    "predict_op = tf.argmax(py_x, 1)\n",
    "\n",
    "# TensorFlow session\n",
    "with tf.Session() as sess:\n",
    "    # you need to initialize all variables\n",
    "    tf.global_variables_initializer().run()\n",
    "\n",
    "    for i in range(epoch):\n",
    "        for start, end in zip(range(0, len(trX), 128), range(128, len(trX)+1, 128)):\n",
    "            train_feed = {X_ph: trX[start:end], Y_ph: trY[start:end]}\n",
    "            sess.run(train_op, feed_dict=train_feed)\n",
    "        \n",
    "        # numpy レベルで正解率(accuracy)を算定し出力\n",
    "        if i % 10 == 0:\n",
    "            print('step {:>3d}: accuracy = {:>8.3f}'.format(\n",
    "                i, np.mean(np.argmax(teY, axis=1) ==\n",
    "                         sess.run(predict_op, feed_dict={X_ph: teX}))))\n"
   ]
  },
  {
   "cell_type": "code",
   "execution_count": null,
   "metadata": {
    "collapsed": true
   },
   "outputs": [],
   "source": []
  }
 ],
 "metadata": {
  "kernelspec": {
   "display_name": "Python 3",
   "language": "python",
   "name": "python3"
  },
  "language_info": {
   "codemirror_mode": {
    "name": "ipython",
    "version": 3
   },
   "file_extension": ".py",
   "mimetype": "text/x-python",
   "name": "python",
   "nbconvert_exporter": "python",
   "pygments_lexer": "ipython3",
   "version": "3.6.1"
  }
 },
 "nbformat": 4,
 "nbformat_minor": 2
}
