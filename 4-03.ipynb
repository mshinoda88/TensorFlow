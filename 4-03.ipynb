{
 "cells": [
  {
   "cell_type": "code",
   "execution_count": 6,
   "metadata": {},
   "outputs": [
    {
     "data": {
      "text/html": [
       "<h2>chapter4 deep neural network   p.156</h2>\n",
       "<h3>活性化関数に双曲線正接関数 relu を使用した場合</h3>"
      ],
      "text/plain": [
       "<IPython.core.display.HTML object>"
      ]
     },
     "metadata": {},
     "output_type": "display_data"
    }
   ],
   "source": [
    "%%html\n",
    "<h2>chapter4 deep neural network   p.156</h2>\n",
    "<h3>活性化関数に双曲線正接関数 relu を使用した場合</h3>"
   ]
  },
  {
   "cell_type": "code",
   "execution_count": 7,
   "metadata": {},
   "outputs": [],
   "source": [
    "import numpy as np\n",
    "from sklearn import datasets\n",
    "from sklearn.model_selection import train_test_split\n",
    "from keras.models import Sequential\n",
    "from keras.layers import Dense, Activation\n",
    "from keras.optimizers import SGD\n",
    "\n",
    "mnist = datasets.fetch_mldata('MNIST original', data_home='/var/tmp/' )\n",
    "\n",
    "n = len(mnist.data) # データ一覧\n",
    "N = 10000 # MNIST の一部のデータで実験\n",
    "indices = np.random.permutation(range(n))[:N] # ランダムにN枚を選択\n",
    "\n",
    "X = mnist.data[indices]\n",
    "y = mnist.target[indices]\n",
    "Y = np.eye(10)[y.astype(int)] # 1-0f-K 表現に変換\n",
    "\n",
    "X_train, X_test, Y_train, Y_test = train_test_split(X, Y, train_size=0.8)"
   ]
  },
  {
   "cell_type": "code",
   "execution_count": 8,
   "metadata": {
    "collapsed": true
   },
   "outputs": [],
   "source": [
    "# 試行回数\n",
    "epochs = 50\n",
    "# 学習率\n",
    "lerning_rate = 0.02\n",
    "# バッチサイズ\n",
    "batch_size = 100\n",
    "\n",
    "## モデル生成\n",
    "# 入力層 784 -> 隠れ層 200 -> 出力層 10\n",
    "n_in = len(X[0]) # 784\n",
    "n_hidden = 200\n",
    "n_out = len(Y[0]) # 10\n",
    "\n",
    "model = Sequential()\n",
    "# 入力層　隠れ層\n",
    "model.add(Dense(n_hidden, input_dim=n_in))\n",
    "model.add(Activation('relu'))\n",
    "\n",
    "# 隠れ層　隠れ層\n",
    "model.add(Dense(n_hidden)) \n",
    "model.add(Activation('relu'))\n",
    "# 隠れ層　隠れ層\n",
    "model.add(Dense(n_hidden)) \n",
    "model.add(Activation('relu'))\n",
    "# 隠れ層　隠れ層\n",
    "model.add(Dense(n_hidden)) \n",
    "model.add(Activation('relu'))\n",
    "\n",
    "# 隠れ層　出力層\n",
    "model.add(Dense(n_out)) \n",
    "model.add(Activation('softmax'))\n",
    "\n",
    "opt_sgd = SGD(lr=lerning_rate)\n",
    "model.compile(loss='categorical_crossentropy', optimizer=opt_sgd, metrics=['accuracy'])"
   ]
  },
  {
   "cell_type": "code",
   "execution_count": 9,
   "metadata": {
    "scrolled": true
   },
   "outputs": [
    {
     "name": "stdout",
     "output_type": "stream",
     "text": [
      "Epoch 1/50\n",
      "8000/8000 [==============================] - 0s - loss: 14.7465 - acc: 0.0846     \n",
      "Epoch 2/50\n",
      "8000/8000 [==============================] - 0s - loss: 14.7743 - acc: 0.0834     \n",
      "Epoch 3/50\n",
      "8000/8000 [==============================] - 0s - loss: 14.7743 - acc: 0.0834     \n",
      "Epoch 4/50\n",
      "8000/8000 [==============================] - 0s - loss: 14.7743 - acc: 0.0834     \n",
      "Epoch 5/50\n",
      "8000/8000 [==============================] - 0s - loss: 14.7743 - acc: 0.0834     \n",
      "Epoch 6/50\n",
      "8000/8000 [==============================] - 0s - loss: 14.7743 - acc: 0.0834     \n",
      "Epoch 7/50\n",
      "8000/8000 [==============================] - 0s - loss: 14.7743 - acc: 0.0834     \n",
      "Epoch 8/50\n",
      "8000/8000 [==============================] - 0s - loss: 14.7743 - acc: 0.0834     \n",
      "Epoch 9/50\n",
      "8000/8000 [==============================] - 0s - loss: 14.7743 - acc: 0.0834     \n",
      "Epoch 10/50\n",
      "8000/8000 [==============================] - 0s - loss: 14.7743 - acc: 0.0834     \n",
      "Epoch 11/50\n",
      "8000/8000 [==============================] - 0s - loss: 14.7743 - acc: 0.0834     \n",
      "Epoch 12/50\n",
      "8000/8000 [==============================] - 0s - loss: 14.7743 - acc: 0.0834     \n",
      "Epoch 13/50\n",
      "8000/8000 [==============================] - 0s - loss: 14.7743 - acc: 0.0834     \n",
      "Epoch 14/50\n",
      "8000/8000 [==============================] - 0s - loss: 14.7743 - acc: 0.0834     \n",
      "Epoch 15/50\n",
      "8000/8000 [==============================] - 0s - loss: 14.7743 - acc: 0.0834     \n",
      "Epoch 16/50\n",
      "8000/8000 [==============================] - 0s - loss: 14.7743 - acc: 0.0834     \n",
      "Epoch 17/50\n",
      "8000/8000 [==============================] - 0s - loss: 14.7743 - acc: 0.0834     \n",
      "Epoch 18/50\n",
      "8000/8000 [==============================] - 0s - loss: 14.7743 - acc: 0.0834     \n",
      "Epoch 19/50\n",
      "8000/8000 [==============================] - 0s - loss: 14.7743 - acc: 0.0834     \n",
      "Epoch 20/50\n",
      "8000/8000 [==============================] - 0s - loss: 14.7743 - acc: 0.0834     \n",
      "Epoch 21/50\n",
      "8000/8000 [==============================] - 0s - loss: 14.7743 - acc: 0.0834     \n",
      "Epoch 22/50\n",
      "8000/8000 [==============================] - 0s - loss: 14.7743 - acc: 0.0834     \n",
      "Epoch 23/50\n",
      "8000/8000 [==============================] - 0s - loss: 14.7743 - acc: 0.0834     \n",
      "Epoch 24/50\n",
      "8000/8000 [==============================] - 0s - loss: 14.7743 - acc: 0.0834      ETA: 0s - loss: 1\n",
      "Epoch 25/50\n",
      "8000/8000 [==============================] - 0s - loss: 14.7743 - acc: 0.0834     \n",
      "Epoch 26/50\n",
      "8000/8000 [==============================] - 0s - loss: 14.7743 - acc: 0.0834     \n",
      "Epoch 27/50\n",
      "8000/8000 [==============================] - 0s - loss: 14.7743 - acc: 0.0834     \n",
      "Epoch 28/50\n",
      "8000/8000 [==============================] - 0s - loss: 14.7743 - acc: 0.0834     \n",
      "Epoch 29/50\n",
      "8000/8000 [==============================] - 0s - loss: 14.7743 - acc: 0.0834     \n",
      "Epoch 30/50\n",
      "8000/8000 [==============================] - 0s - loss: 14.7743 - acc: 0.0834     \n",
      "Epoch 31/50\n",
      "8000/8000 [==============================] - 0s - loss: 14.7743 - acc: 0.0834     \n",
      "Epoch 32/50\n",
      "8000/8000 [==============================] - 0s - loss: 14.7743 - acc: 0.0834     \n",
      "Epoch 33/50\n",
      "8000/8000 [==============================] - 0s - loss: 14.7743 - acc: 0.0834     \n",
      "Epoch 34/50\n",
      "8000/8000 [==============================] - 0s - loss: 14.7743 - acc: 0.0834     \n",
      "Epoch 35/50\n",
      "8000/8000 [==============================] - 0s - loss: 14.7743 - acc: 0.0834     \n",
      "Epoch 36/50\n",
      "8000/8000 [==============================] - 0s - loss: 14.7743 - acc: 0.0834     \n",
      "Epoch 37/50\n",
      "8000/8000 [==============================] - 0s - loss: 14.7743 - acc: 0.0834     \n",
      "Epoch 38/50\n",
      "8000/8000 [==============================] - 0s - loss: 14.7743 - acc: 0.0834     \n",
      "Epoch 39/50\n",
      "8000/8000 [==============================] - 0s - loss: 14.7743 - acc: 0.0834     \n",
      "Epoch 40/50\n",
      "8000/8000 [==============================] - 0s - loss: 14.7743 - acc: 0.0834     \n",
      "Epoch 41/50\n",
      "8000/8000 [==============================] - 0s - loss: 14.7743 - acc: 0.0834     \n",
      "Epoch 42/50\n",
      "8000/8000 [==============================] - 0s - loss: 14.7743 - acc: 0.0834     \n",
      "Epoch 43/50\n",
      "8000/8000 [==============================] - 0s - loss: 14.7743 - acc: 0.0834     \n",
      "Epoch 44/50\n",
      "8000/8000 [==============================] - 0s - loss: 14.7743 - acc: 0.0834     \n",
      "Epoch 45/50\n",
      "8000/8000 [==============================] - 0s - loss: 14.7743 - acc: 0.0834     \n",
      "Epoch 46/50\n",
      "8000/8000 [==============================] - 0s - loss: 14.7743 - acc: 0.0834     \n",
      "Epoch 47/50\n",
      "8000/8000 [==============================] - 0s - loss: 14.7743 - acc: 0.0834     \n",
      "Epoch 48/50\n",
      "8000/8000 [==============================] - 0s - loss: 14.7743 - acc: 0.0834     \n",
      "Epoch 49/50\n",
      "8000/8000 [==============================] - 0s - loss: 14.7743 - acc: 0.0834     \n",
      "Epoch 50/50\n",
      "8000/8000 [==============================] - 0s - loss: 14.7743 - acc: 0.0834     \n",
      "1184/2000 [================>.............] - ETA: 0s\n",
      "loss_and_metrics: [14.699702697753906, 0.087999999999999995]\n"
     ]
    }
   ],
   "source": [
    "## モデル学習\n",
    "model.fit(X_train, Y_train, epochs=epochs, batch_size=batch_size, verbose=1)\n",
    "\n",
    "# 予測精度の評価\n",
    "loss_and_metrics = model.evaluate(X_test, Y_test)\n",
    "print()\n",
    "print('loss_and_metrics:', loss_and_metrics)"
   ]
  },
  {
   "cell_type": "code",
   "execution_count": null,
   "metadata": {
    "collapsed": true
   },
   "outputs": [],
   "source": []
  }
 ],
 "metadata": {
  "kernelspec": {
   "display_name": "Python 3",
   "language": "python",
   "name": "python3"
  },
  "language_info": {
   "codemirror_mode": {
    "name": "ipython",
    "version": 3
   },
   "file_extension": ".py",
   "mimetype": "text/x-python",
   "name": "python",
   "nbconvert_exporter": "python",
   "pygments_lexer": "ipython3",
   "version": "3.6.1"
  }
 },
 "nbformat": 4,
 "nbformat_minor": 2
}
