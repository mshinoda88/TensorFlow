{
 "cells": [
  {
   "cell_type": "code",
   "execution_count": 5,
   "metadata": {},
   "outputs": [
    {
     "name": "stdout",
     "output_type": "stream",
     "text": [
      "classified: [[ True]\n",
      " [ True]\n",
      " [ True]\n",
      " [ True]]\n",
      "output probability:: [[ 0.35688934]\n",
      " [ 0.87203729]\n",
      " [ 0.87203729]\n",
      " [ 0.98819166]]\n"
     ]
    }
   ],
   "source": [
    "# 1. モデルの定義\n",
    "# 2. 誤差関数の定義\n",
    "# 3. 最適化手法の定義\n",
    "# 4. セッションの初期化\n",
    "# 5. 学習\n",
    "#  \n",
    "\n",
    "import numpy as np\n",
    "import tensorflow as tf\n",
    "\n",
    "\"\"\"\n",
    " モデル設定\n",
    "\"\"\"\n",
    "tf.set_random_seed(0)\n",
    "\n",
    "# 重み\n",
    "w = tf.Variable(tf.zeros([2, 1]))\n",
    "# バイアス\n",
    "b = tf.Variable(tf.zeros([1]))\n",
    "# 試行回数\n",
    "epoch = 200\n",
    "# 学習率\n",
    "lerning_rate = 0.05\n",
    "\n",
    "x = tf.placeholder(tf.float32, shape=[None, 2])\n",
    "t = tf.placeholder(tf.float32, shape=[None, 1])\n",
    "\n",
    "# 出力 y は確率となっている\n",
    "y = tf.nn.sigmoid(tf.matmul(x, w) + b) # 1/(1+e^(-x)) x<-x*w+b\n",
    "\n",
    "# 自分のモデルと実データの差異に対応するコスト関数\n",
    "# -> 交差エントロピー誤差関数 E(w,b)= -sum( t*log(y)+(1-t)*log(1-y) )\n",
    "cost = - tf.reduce_sum(t * tf.log(y) + (1 - t) * tf.log(1 - y))\n",
    "\n",
    "# 学習率(Learning Rate)\n",
    "train_step = tf.train.GradientDescentOptimizer(lerning_rate).minimize(cost)\n",
    "\n",
    "# 確率 y>=0.5 でニューロンが発火する。\n",
    "correct_prediction = tf.equal(tf.to_float(tf.greater(y, 0.5)), t)\n",
    "\n",
    "\"\"\"\n",
    " モデル学習\n",
    "\"\"\"\n",
    "# ORゲート\n",
    "X = np.array([[0,0], [0,1], [1,0], [1,1]])\n",
    "Y = np.array([[0], [1], [1], [1]])\n",
    "\n",
    "# TensorFlow session\n",
    "with tf.Session() as sess:\n",
    "    # you need to initialize all variables\n",
    "    tf.global_variables_initializer().run()\n",
    "\n",
    "    for i in range(epoch):\n",
    "        train_feed = { x: X, t: Y }\n",
    "        sess.run(train_step, feed_dict=train_feed)\n",
    "\n",
    "    # 学習結果の確認\n",
    "    train_feed = { x: X, t: Y }\n",
    "    classified = correct_prediction.eval(session=sess, feed_dict=train_feed)\n",
    "    prob = y.eval(session=sess, feed_dict={ x:X })\n",
    "    print('classified:', classified)\n",
    "    print('output probability::', prob)\n"
   ]
  },
  {
   "cell_type": "code",
   "execution_count": null,
   "metadata": {
    "collapsed": true
   },
   "outputs": [],
   "source": []
  }
 ],
 "metadata": {
  "kernelspec": {
   "display_name": "Python 3",
   "language": "python",
   "name": "python3"
  },
  "language_info": {
   "codemirror_mode": {
    "name": "ipython",
    "version": 3
   },
   "file_extension": ".py",
   "mimetype": "text/x-python",
   "name": "python",
   "nbconvert_exporter": "python",
   "pygments_lexer": "ipython3",
   "version": "3.6.1"
  }
 },
 "nbformat": 4,
 "nbformat_minor": 2
}
